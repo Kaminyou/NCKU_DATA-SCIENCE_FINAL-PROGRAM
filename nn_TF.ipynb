{
 "cells": [
  {
   "cell_type": "code",
   "execution_count": 52,
   "metadata": {},
   "outputs": [],
   "source": [
    "import math\n",
    "import pickle\n",
    "\n",
    "import random\n",
    "from collections import defaultdict\n",
    "\n",
    "import pandas as pd\n",
    "import numpy as np\n",
    "import tensorflow as tf\n",
    "import matplotlib.pyplot as plt\n",
    "from ipywidgets import IntSlider, interactive\n",
    "\n",
    "import numpy as np\n",
    "from sklearn import metrics\n",
    "from sklearn.model_selection import StratifiedKFold, train_test_split\n",
    "\n",
    "%matplotlib inline"
   ]
  },
  {
   "cell_type": "code",
   "execution_count": 53,
   "metadata": {},
   "outputs": [],
   "source": [
    "DTYPE = tf.float32"
   ]
  },
  {
   "cell_type": "code",
   "execution_count": null,
   "metadata": {},
   "outputs": [],
   "source": [
    "X_data=np.load('./dataset/X_matrix.npy')\n",
    "Y=pd.read_pickle('./dataset/Y.p')\n",
    "Data_order=Y.index.values.astype(np.int16)\n",
    "Y_data=Y.PSI.values.astype(np.float32)\n",
    "Y_data[Y_data <= 0.10] = 0\n",
    "Y_data[Y_data >= 0.70] = 1\n",
    "data_selected = (Y_data == 0) + (Y_data == 1)\n",
    "x_data = X_data[data_selected]\n",
    "y_data = Y_data[data_selected]\n",
    "data_order = Data_order[data_selected]\n",
    "y_data=y_data.astype(np.int8)"
   ]
  },
  {
   "cell_type": "code",
   "execution_count": null,
   "metadata": {},
   "outputs": [],
   "source": [
    "plt.imshow(x_data[0])\n",
    "plt.show()"
   ]
  },
  {
   "cell_type": "code",
   "execution_count": null,
   "metadata": {},
   "outputs": [],
   "source": [
    "def display_image(x):\n",
    "    plt.imshow(x_data[x])"
   ]
  },
  {
   "cell_type": "code",
   "execution_count": null,
   "metadata": {},
   "outputs": [],
   "source": [
    "interactive(display_image, x=IntSlider(min=0,max=x_data.shape[0]-1,step=1,value=0))"
   ]
  },
  {
   "cell_type": "markdown",
   "metadata": {},
   "source": [
    "## One-Hot Encoding"
   ]
  },
  {
   "cell_type": "code",
   "execution_count": 54,
   "metadata": {},
   "outputs": [],
   "source": [
    "def one_hot_encode(x):\n",
    "    \"\"\"\n",
    "    One hot encode a list of sample labels. Return a one-hot encoded vector for each label.\n",
    "    \n",
    "    Arguments:\n",
    "    : x: List of sample Labels\n",
    "    : return: Numpy array of one-hot encoded labels\n",
    "    \"\"\"\n",
    "    encoding = np.eye(2)[x]\n",
    "    return encoding"
   ]
  },
  {
   "cell_type": "code",
   "execution_count": null,
   "metadata": {},
   "outputs": [],
   "source": [
    "y_data=one_hot_encode(y_data)"
   ]
  },
  {
   "cell_type": "markdown",
   "metadata": {},
   "source": [
    "## Random Shuffle and Split the Data into 4 Training Batches and 1 Validation"
   ]
  },
  {
   "cell_type": "code",
   "execution_count": 56,
   "metadata": {},
   "outputs": [],
   "source": [
    "def dump_preprocess_training_batch(X, y, batch_size):\n",
    "    \"\"\"\n",
    "    Save the preprocess batch data and validation data\n",
    "    \n",
    "    Arguments:\n",
    "    : X : features data\n",
    "    : y : labels data\n",
    "    : batch_size: the size of training batches\n",
    "    \"\"\"\n",
    "    indices = np.arange(X.shape[0])\n",
    "    np.random.shuffle(indices)\n",
    "\n",
    "    X = X[indices]\n",
    "    y = y[indices]\n",
    "    \n",
    "    n_batches=int(X.shape[0]/batch_size)-1\n",
    "    validation_count = X.shape[0]-batch_size*n_batches\n",
    "    \n",
    "    for batch_i in range(0, n_batches):\n",
    "        features, labels = X[batch_i*batch_size : (batch_i+1)*batch_size], y[batch_i*batch_size : (batch_i+1)*batch_size]\n",
    "        print(features.shape)\n",
    "        # Prprocess and save a batch of training data\n",
    "        filename = './dataset/train_batch_' + str(batch_i+1) + '.p'\n",
    "        pickle.dump((features, labels), open(filename, 'wb'))\n",
    "        \n",
    "    # Use a portion of training batch for validation\n",
    "    valid_features, valid_labels = X[-validation_count:], y[-validation_count:]\n",
    "    print(valid_features.shape)\n",
    "    # Preprocess and Save all validation data\n",
    "    pickle.dump((valid_features, valid_labels), open('./dataset/validation.p', 'wb'))"
   ]
  },
  {
   "cell_type": "code",
   "execution_count": 57,
   "metadata": {},
   "outputs": [],
   "source": [
    "#dump_preprocess_training_batch(x_data, y_data, 236)"
   ]
  },
  {
   "cell_type": "markdown",
   "metadata": {},
   "source": [
    "## Split into Batches with Specific Batch Size"
   ]
  },
  {
   "cell_type": "code",
   "execution_count": 58,
   "metadata": {},
   "outputs": [],
   "source": [
    "def batch_features_labels(features, labels, batch_size):\n",
    "    \"\"\"\n",
    "    Split features and labels into batches\n",
    "    \"\"\"\n",
    "    for start in range(0, len(features), batch_size):\n",
    "        end = min(start + batch_size, len(features))\n",
    "        yield features[start:end], labels[start:end]"
   ]
  },
  {
   "cell_type": "code",
   "execution_count": 59,
   "metadata": {},
   "outputs": [],
   "source": [
    "def load_preprocess_training_batch(batch_id, batch_size):\n",
    "    \"\"\"\n",
    "    Load the Preprocessed Training data and return them in batches of <batch_size> or less\n",
    "    \n",
    "    Arguments:\n",
    "    : batch_id : the id of the batch\n",
    "    : batch_size : batch size\n",
    "    \n",
    "    Returns:\n",
    "    : the batch features and labels\n",
    "    \"\"\"\n",
    "    filename = './dataset/train_batch_' + str(batch_id) + '.p'\n",
    "    features, labels = pickle.load(open(filename, mode='rb'))\n",
    "\n",
    "    # Return the training data in batches of size <batch_size> or less\n",
    "    return batch_features_labels(features, labels, batch_size)"
   ]
  },
  {
   "cell_type": "code",
   "execution_count": 60,
   "metadata": {},
   "outputs": [],
   "source": [
    "valid_features, valid_labels = pickle.load(open('./dataset/validation.p', mode='rb'))"
   ]
  },
  {
   "cell_type": "markdown",
   "metadata": {},
   "source": [
    "## Input"
   ]
  },
  {
   "cell_type": "code",
   "execution_count": 61,
   "metadata": {},
   "outputs": [],
   "source": [
    "def neural_net_input(image_shape, n_classes):\n",
    "    \"\"\"\n",
    "    Grouping nodes into a single name scope in the computation graph.\n",
    "    \n",
    "    Arguments:\n",
    "    : image_shape: The shape of image\n",
    "    : n_classes: The number of classes\n",
    "    \n",
    "    Returns:\n",
    "    : x, y, keep_prob_1, keep_prob_2, learning_rate, is_training\n",
    "    \"\"\"\n",
    "    with tf.name_scope('inputs'):\n",
    "        x = tf.placeholder(DTYPE, [None] + list(image_shape), name='x')\n",
    "        y = tf.placeholder(DTYPE, [None ,n_classes], name='y')\n",
    "        keep_prob_1 = tf.placeholder(DTYPE, None, name=\"keep_prob_1\")\n",
    "        keep_prob_2 = tf.placeholder(DTYPE, None, name=\"keep_prob_2\")\n",
    "        learning_rate = tf.placeholder(DTYPE, None, \"lr\")\n",
    "        is_training=tf.placeholder(tf.bool, None, name='is_training')\n",
    "    return x, y, keep_prob_1, keep_prob_2, learning_rate, is_training"
   ]
  },
  {
   "cell_type": "markdown",
   "metadata": {},
   "source": [
    "## 1D Convolution"
   ]
  },
  {
   "cell_type": "code",
   "execution_count": 62,
   "metadata": {},
   "outputs": [],
   "source": [
    "def conv1d(x_tensor, conv_num_outputs, conv_ksize, conv_strides, is_training, padding = 'SAME', l2_regularize=True, wd=0.0001):\n",
    "    \"\"\"\n",
    "    Apply 1D convolution to x_tensor\n",
    "    \n",
    "    Arguments:\n",
    "    : x_tensor: TensorFlow Tensor\n",
    "    : conv_num_outputs: Number of outputs for the convolutional layer\n",
    "    : conv_ksize: Kernal size for the convolutional layer\n",
    "    : conv_strides: Stride for convolution\n",
    "    : is_training: Placeholder bool that hold the flag to determine training is True or False\n",
    "    : l2_regularize: Flag for l2 regularization\n",
    "    : wd: Weight decay\n",
    "    \n",
    "    Returns:\n",
    "    : A tensor that represents convolution of x_tensor\n",
    "    \"\"\"\n",
    "    X_shape = x_tensor.get_shape().as_list()\n",
    "    #print(X_shape)\n",
    "    C_kshape = list((conv_ksize,) + (X_shape[-1],) + (conv_num_outputs,))\n",
    "    #print(C_kshape)\n",
    "    \n",
    "    # The shape of the filter weight is (depth, height, width, input_channels, output_channels)\n",
    "    # The shape of the filter bias is (output_channels,)\n",
    "    F_W = tf.get_variable('W', shape=C_kshape, initializer=tf.contrib.layers.xavier_initializer(), dtype=DTYPE)\n",
    "    #F_b = tf.get_variable('b', shape=(conv_num_outputs,) , initializer=tf.constant_initializer(0.1, dtype=DTYPE))\n",
    "    #print(F_W.shape)\n",
    "    #print(F_b.shape)\n",
    "    if l2_regularize==True:\n",
    "        #wd = 0.0001\n",
    "        weight_decay = tf.multiply(tf.nn.l2_loss(F_W), wd, name='weight_loss')\n",
    "        tf.add_to_collection('losses', weight_decay)\n",
    "    \n",
    "    # The shape of the convolution stride is (batch_size, depth, height, width, channels)\n",
    "    C_strides = conv_strides\n",
    "    \n",
    "    # The padding, either 'VALID' or 'SAME'.\n",
    "    #padding = 'SAME'\n",
    "    conv_output = tf.nn.conv1d(x_tensor, F_W, C_strides, padding)\n",
    "    conv_output = tf.layers.batch_normalization(inputs=conv_output, training=is_training)\n",
    "    conv_output = tf.nn.elu(conv_output)\n",
    "    # Keeping track of weights and biases\n",
    "    tf.summary.histogram('weights', F_W)\n",
    "    #tf.summary.histogram('biases', F_b)\n",
    "    \n",
    "    return conv_output"
   ]
  },
  {
   "cell_type": "markdown",
   "metadata": {},
   "source": [
    "## 1D Maxpooling"
   ]
  },
  {
   "cell_type": "code",
   "execution_count": 63,
   "metadata": {},
   "outputs": [],
   "source": [
    "def max_pooling1d(x_tensor, pool_ksize, pool_strides):\n",
    "    \"\"\"\n",
    "    Apply 1D pooling to x_tensor\n",
    "    \n",
    "    Arguments:\n",
    "    : x_tensor: TensorFlow Tensor\n",
    "    : pool_ksize: Kernal size for pool\n",
    "    : pool_strides: Stride for pool\n",
    "    \n",
    "    Returns:\n",
    "    : A tensor that represents max pooling of x_tensor\n",
    "    \"\"\"\n",
    "   # The padding, either 'VALID' or 'SAME'.\n",
    "    padding = 'SAME'\n",
    "    P_kshape = pool_ksize\n",
    "    P_stride = pool_strides\n",
    "    \n",
    "    pooling_output = tf.layers.max_pooling1d(x_tensor,P_kshape,P_stride,padding)\n",
    "    \n",
    "    return pooling_output"
   ]
  },
  {
   "cell_type": "markdown",
   "metadata": {},
   "source": [
    "## Flatten Layer"
   ]
  },
  {
   "cell_type": "code",
   "execution_count": 64,
   "metadata": {},
   "outputs": [],
   "source": [
    "def flatten(x_tensor):\n",
    "    \"\"\"\n",
    "    Flatten x_tensor to (Batch Size, Flattened Size)\n",
    "    \n",
    "    Arguments:\n",
    "    : x_tensor: A tensor of size (Batch Size, ...), where ... are the 2D dimensions\n",
    "    \n",
    "    Returns:\n",
    "    : A tensor of size (Batch Size, Flattened Size)\n",
    "    \"\"\"\n",
    "    # reference : https://github.com/tensorflow/tensorflow/issues/7253\n",
    "    X_shape = x_tensor.get_shape().as_list()\n",
    "    \n",
    "    return tf.reshape(x_tensor,[-1,np.prod(X_shape[1:])])"
   ]
  },
  {
   "cell_type": "markdown",
   "metadata": {},
   "source": [
    "## Fully-Connected Layer"
   ]
  },
  {
   "cell_type": "code",
   "execution_count": 65,
   "metadata": {},
   "outputs": [],
   "source": [
    "def fully_conn(x_tensor, num_outputs, is_training, l2_regularize=True, wd=0.0001):\n",
    "    \"\"\"\n",
    "    Apply a fully connected layer to x_tensor using weight and bias\n",
    "    \n",
    "    Arguments:\n",
    "    : x_tensor: A 2-D tensor where the first dimension is batch size\n",
    "    : num_outputs: The number of output that the new tensor should be\n",
    "    : is_training: Placeholder bool that hold the flag to determine training is True or False\n",
    "    : l2_regularize: Flag for l2 regularization\n",
    "    \n",
    "    Returns:\n",
    "    : A 2-D tensor where the second dimension is num_outputs\n",
    "    \"\"\"\n",
    "    X_shape = x_tensor.get_shape().as_list()\n",
    "    shape = list((X_shape[-1],)+(num_outputs,))\n",
    "    \n",
    "    \n",
    "    W = tf.get_variable('W', shape=shape, initializer=tf.contrib.layers.xavier_initializer(),dtype=DTYPE)\n",
    "    #b = tf.get_variable('b', shape=(num_outputs,) , initializer=tf.constant_initializer(0.1, dtype=DTYPE))\n",
    "    \n",
    "    if l2_regularize==True:\n",
    "        #wd = 0.0001\n",
    "        weight_decay = tf.multiply(tf.nn.l2_loss(W), wd, name='weight_loss')\n",
    "        tf.add_to_collection('losses', weight_decay)\n",
    "    \n",
    "    fc_output = tf.matmul(x_tensor, W)\n",
    "    fc_output = tf.layers.batch_normalization(inputs=fc_output, training=is_training)\n",
    "    fc_output = tf.nn.elu(fc_output)\n",
    "    \n",
    "    # Keeping track of weights and biases\n",
    "    tf.summary.histogram('weights', W)\n",
    "    #tf.summary.histogram('biases', b)\n",
    "    \n",
    "    return fc_output"
   ]
  },
  {
   "cell_type": "markdown",
   "metadata": {},
   "source": [
    "## Output Layer"
   ]
  },
  {
   "cell_type": "code",
   "execution_count": 66,
   "metadata": {},
   "outputs": [],
   "source": [
    "def output(x_tensor, num_outputs):\n",
    "    \"\"\"\n",
    "    Apply a output layer to x_tensor using weight and bias\n",
    "    \n",
    "    Arguments:\n",
    "    : x_tensor: A 2-D tensor where the first dimension is batch size.\n",
    "    : num_outputs: The number of output that the new tensor should be.\n",
    "    \n",
    "    Returns:\n",
    "    : A 2-D tensor where the second dimension is num_outputs.\n",
    "    \"\"\"\n",
    "    X_shape = x_tensor.get_shape().as_list()\n",
    "    shape = list((X_shape[-1],)+(num_outputs,))\n",
    "    W = tf.get_variable('W', shape=shape, initializer=tf.contrib.layers.xavier_initializer(),dtype=DTYPE)\n",
    "    #b = tf.get_variable('b', shape=(num_outputs,) , initializer=tf.constant_initializer(0.1, dtype=DTYPE))\n",
    "    # Keeping track of weights and biases\n",
    "    tf.summary.histogram('weights', W)\n",
    "    #tf.summary.histogram('biases', b)\n",
    "    return tf.matmul(x_tensor, W)"
   ]
  },
  {
   "cell_type": "markdown",
   "metadata": {},
   "source": [
    "## Global-Average-Pooling Layer"
   ]
  },
  {
   "cell_type": "code",
   "execution_count": 67,
   "metadata": {},
   "outputs": [],
   "source": [
    "def global_avg_pooling(x_tensor):\n",
    "    \"\"\"\n",
    "    Apply a Global-Average-Pooling Layer to x_tensor\n",
    "    \n",
    "    Arguments:\n",
    "    : x_tensor: A 2-D tensor where the first dimension is batch size\n",
    "    \n",
    "    Returns:\n",
    "    : A 2-D tensor where the second dimension is num_outputs\n",
    "    \"\"\"\n",
    "    X_shape = x_tensor.get_shape().as_list()\n",
    "    pool_size = X_shape[1]\n",
    "    output = tf.layers.average_pooling1d(inputs=x_tensor, pool_size=pool_size, strides=1)\n",
    "    output_shape = output.get_shape().as_list()\n",
    "    \n",
    "    return tf.reshape(output,[-1,np.prod(output_shape[1:])])"
   ]
  },
  {
   "cell_type": "markdown",
   "metadata": {},
   "source": [
    "## 1D Zero Padding"
   ]
  },
  {
   "cell_type": "code",
   "execution_count": 68,
   "metadata": {},
   "outputs": [],
   "source": [
    "def zero_padding1d(x_tensor, pad):\n",
    "    \"\"\"\n",
    "    Apply 1D zero padding to x_tensor\n",
    "    \n",
    "    Arguments:\n",
    "    : x_tenor: TensorFlow Tensor\n",
    "    : pad: The pad size\n",
    "    \n",
    "    Returns:\n",
    "    : A tensor that represents zero padding of x_tensor\n",
    "    \"\"\"\n",
    "    paddings = tf.constant([[0,0], [pad, pad], [0,0]])\n",
    "    zero_padding_output = tf.pad(x_tensor, paddings, mode='CONSTANT', constant_values=0)\n",
    "    return zero_padding_output"
   ]
  },
  {
   "cell_type": "markdown",
   "metadata": {},
   "source": [
    "## *THE Following are the Blocks used in ResNet Architecture. But I don't ues ResNet finally*\n",
    "\n",
    "If they are used, please comment out the two lines:\n",
    "\n",
    "\"conv_output = tf.layers.batch_normalization(inputs=conv_output, training=is_training)\" and \"conv_output = tf.nn.elu(conv_output)\" in conv1d function,\n",
    "\n",
    "and take off the \"is_training\" parameter."
   ]
  },
  {
   "cell_type": "markdown",
   "metadata": {},
   "source": [
    "## Identity block"
   ]
  },
  {
   "cell_type": "code",
   "execution_count": 69,
   "metadata": {},
   "outputs": [],
   "source": [
    "def identity_block(X, f, filters, stage, block, is_training, l2_regularize=True, wd=0.0001):\n",
    "    \"\"\"\n",
    "    Implementation of the identity block\n",
    "    \n",
    "    Arguments:\n",
    "    : X: Input tensor of shape (m, n_S_prev, n_C_prev)\n",
    "    : f: Integer, specifying the shape of the middle CONV's window for the main path\n",
    "    : filters: Python list of integers, defining the number of filters in the CONV layers of the main path\n",
    "    : stage: Integer, used to name the layers, depending on their position in the network\n",
    "    : block: String/character, used to name the layers, depending on their position in the network\n",
    "    : is_training: Placeholder bool that hold the flag to determine training is True or False\n",
    "    \n",
    "    Returns:\n",
    "    : Output of the identity block, tensor of shape (m, n_S, n_C)\n",
    "    \"\"\"\n",
    "    # defining name basis\n",
    "    conv_name_base = 'res' + str(stage) + block + '_branch'\n",
    "    bn_name_base = 'bn' + str(stage) + block + '_branch'\n",
    "    \n",
    "    # Retrieve Filters\n",
    "    F1, F2, F3 = filters\n",
    "    \n",
    "    # Save the input value. You'll need this later to add back to the main path. \n",
    "    X_shortcut = X\n",
    "    \n",
    "    # First component of main path\n",
    "    with tf.variable_scope(conv_name_base + '2a'):\n",
    "        X = conv1d(X, conv_num_outputs=F1, conv_ksize=1, conv_strides=1, padding ='VALID', l2_regularize=l2_regularize, wd=wd)\n",
    "    with tf.variable_scope(bn_name_base + '2a'):\n",
    "        X = tf.layers.batch_normalization(X, training=is_training)\n",
    "    X = tf.nn.elu(X)\n",
    "    \n",
    "    # Second component of main path\n",
    "    with tf.variable_scope(conv_name_base + '2b'):\n",
    "        X = conv1d(X, conv_num_outputs=F2, conv_ksize=f, conv_strides=1, padding ='SAME', l2_regularize=l2_regularize, wd=wd)\n",
    "    with tf.variable_scope(bn_name_base + '2b'):\n",
    "        X = tf.layers.batch_normalization(X, training=is_training)\n",
    "    X = tf.nn.elu(X)\n",
    "\n",
    "    # Third component of main path\n",
    "    with tf.variable_scope(conv_name_base + '2c'):\n",
    "        X = conv1d(X, conv_num_outputs=F3, conv_ksize=1, conv_strides=1, padding ='VALID', l2_regularize=l2_regularize, wd=wd)\n",
    "    with tf.variable_scope(bn_name_base + '2c'):\n",
    "        X = tf.layers.batch_normalization(X, training=is_training)\n",
    "    \n",
    "    # Final step: Add shortcut value to main path, and pass it through a RELU activation\n",
    "    #X = X + X_shortcut\n",
    "    X = tf.add(X, X_shortcut)\n",
    "    X = tf.nn.elu(X)\n",
    "    \n",
    "    return X"
   ]
  },
  {
   "cell_type": "markdown",
   "metadata": {},
   "source": [
    "## Convolutional block"
   ]
  },
  {
   "cell_type": "code",
   "execution_count": 70,
   "metadata": {},
   "outputs": [],
   "source": [
    "def convolutional_block(X, f, filters, stage, block, s , is_training, l2_regularize=True, wd=0.0001):\n",
    "    \"\"\"\n",
    "    Implementation of the convolutional block\n",
    "    \n",
    "    Arguments:\n",
    "    : X: Input tensor of shape (m, n_S_prev, n_C_prev)\n",
    "    : f: Integer, specifying the shape of the middle CONV's window for the main path\n",
    "    : filters: Python list of integers, defining the number of filters in the CONV layers of the main path\n",
    "    : stage: Integer, used to name the layers, depending on their position in the network\n",
    "    : block: String/character, used to name the layers, depending on their position in the network\n",
    "    : is_training: Boolean flag for BN\n",
    "    : s: Integer, specifying the stride to be used\n",
    "    : is_training: Placeholder bool that hold the flag to determine training is True or False\\\n",
    "    \n",
    "    \n",
    "    Returns:\n",
    "    : output of the convolutional block, tensor of shape (m, n_S, n_C)\n",
    "    \"\"\"\n",
    "    # defining name basis\n",
    "    conv_name_base = 'res' + str(stage) + block + '_branch'\n",
    "    bn_name_base = 'bn' + str(stage) + block + '_branch'\n",
    "    \n",
    "    # Retrieve Filters\n",
    "    F1, F2, F3 = filters\n",
    "    \n",
    "    # Save the input value\n",
    "    X_shortcut = X\n",
    "\n",
    "    ##### MAIN PATH #####\n",
    "    # First component of main path\n",
    "    with tf.variable_scope(conv_name_base + '2a'):\n",
    "        X = conv1d(X, conv_num_outputs=F1, conv_ksize=1, conv_strides=s, padding ='VALID', l2_regularize=l2_regularize, wd=wd)\n",
    "    with tf.variable_scope(bn_name_base + '2a'):\n",
    "        X = tf.layers.batch_normalization(X, training=is_training)\n",
    "    X = tf.nn.elu(X)\n",
    "\n",
    "    # Second component of main path (≈3 lines)\n",
    "    with tf.variable_scope(conv_name_base + '2b'):\n",
    "        X = conv1d(X, conv_num_outputs=F2, conv_ksize=f, conv_strides=1, padding ='SAME', l2_regularize=l2_regularize, wd=wd)\n",
    "    with tf.variable_scope(bn_name_base + '2b'):\n",
    "        X = tf.layers.batch_normalization(X, training=is_training)\n",
    "    X = tf.nn.elu(X)\n",
    "\n",
    "    # Third component of main path (≈2 lines)\n",
    "    with tf.variable_scope(conv_name_base + '2c'):\n",
    "        X = conv1d(X, conv_num_outputs=F3, conv_ksize=1, conv_strides=1, padding ='VALID', l2_regularize=l2_regularize, wd=wd)\n",
    "    with tf.variable_scope(bn_name_base + '2c'):\n",
    "        X = tf.layers.batch_normalization(X, training=is_training)\n",
    "\n",
    "    ##### SHORTCUT PATH #### (≈2 lines)\n",
    "    with tf.variable_scope(conv_name_base + '1'):\n",
    "        X_shortcut = conv1d(X_shortcut, conv_num_outputs=F3, conv_ksize=1, conv_strides=s, padding ='VALID', l2_regularize=l2_regularize, wd=wd)\n",
    "    with tf.variable_scope(bn_name_base + '1'):\n",
    "        X_shortcut = tf.layers.batch_normalization(X_shortcut, training=is_training)\n",
    "    \n",
    "    # Final step: Add shortcut value to main path, and pass it through a RELU activation (≈2 lines)\n",
    "    X = tf.add(X, X_shortcut)\n",
    "    X = tf.nn.elu(X)\n",
    "    \n",
    "    return X"
   ]
  },
  {
   "cell_type": "markdown",
   "metadata": {},
   "source": [
    "## Create Model"
   ]
  },
  {
   "cell_type": "code",
   "execution_count": 71,
   "metadata": {},
   "outputs": [],
   "source": [
    "def DeepTf(X, keep_prob_1, keep_prob_2, is_training=False):\n",
    "    \"\"\"\n",
    "    Create a convolutional/dense neural network model\n",
    "    \n",
    "    Arguments:\n",
    "    : x: Placeholder tensor that holds data.\n",
    "    : keep_prob: Placeholder tensor that hold dropout keep probability.\n",
    "    : is_training: Placeholder bool that hold the flag to determine training is True or False, default is False\n",
    "    \n",
    "    Returns:\n",
    "    : Tensor that represents logits\n",
    "    \"\"\"\n",
    "    \n",
    "\n",
    "    with tf.name_scope(\"DNN\"):\n",
    "        \n",
    "        X = flatten(X)\n",
    "        \n",
    "        with tf.variable_scope('fc1'):\n",
    "            X = fully_conn(X, num_outputs=128, is_training= is_training, l2_regularize=True, wd=0.01)\n",
    "            X = tf.nn.dropout(X, keep_prob_1)\n",
    "        with tf.variable_scope('fc2'):\n",
    "            X = fully_conn(X, num_outputs=256, is_training = is_training, l2_regularize=True, wd=0.01)\n",
    "            X = tf.nn.dropout(X, keep_prob_1)\n",
    "        with tf.variable_scope('fc3'):\n",
    "            X = fully_conn(X, num_outputs=512, is_training = is_training, l2_regularize=True, wd=0.01)\n",
    "            X = tf.nn.dropout(X, keep_prob_2)\n",
    "        with tf.variable_scope('fc4'):\n",
    "            X = fully_conn(X, num_outputs=1024, is_training = is_training, l2_regularize=True, wd=0.01)\n",
    "            X = tf.nn.dropout(X, keep_prob_2)\n",
    "            \n",
    "        X = output(X, 2)\n",
    "    \n",
    "    \"\"\"\n",
    "    \n",
    "    with tf.name_scope(\"CNN\"):\n",
    "    \n",
    "        with tf.variable_scope('conv1'):\n",
    "            X = conv1d(X, conv_num_outputs=128, conv_ksize=7, conv_strides=1, is_training=is_training, padding = 'SAME', l2_regularize=True, wd=0.001)\n",
    "            X = max_pooling1d(X, pool_ksize=3, pool_strides=1)\n",
    "            X = tf.nn.dropout(X, keep_prob_2)\n",
    "\n",
    "        X = flatten(X)\n",
    "        \n",
    "        with tf.variable_scope('fc1'):\n",
    "            X = fully_conn(X, num_outputs=128, is_training= is_training, l2_regularize=True, wd=0.001)\n",
    "            X = tf.nn.dropout(X, keep_prob_2)\n",
    "        with tf.variable_scope('fc2'):\n",
    "            X = fully_conn(X, num_outputs=256, is_training = is_training, l2_regularize=True, wd=0.001)\n",
    "            X = tf.nn.dropout(X, keep_prob_2)\n",
    "            \n",
    "        X = output(X, 2)\n",
    "    \"\"\"\n",
    "    \n",
    "    return X"
   ]
  },
  {
   "cell_type": "markdown",
   "metadata": {},
   "source": [
    "## Building a training op"
   ]
  },
  {
   "cell_type": "code",
   "execution_count": 72,
   "metadata": {},
   "outputs": [],
   "source": [
    "def build_op():\n",
    "    # Remove previous weights, bias, inputs, etc..\n",
    "    tf.reset_default_graph()\n",
    "\n",
    "    # Inputs\n",
    "    x, y, keep_prob_1, keep_prob_2, lr, is_training = neural_net_input((307, 2500), 2)\n",
    "    # Model\n",
    "    logits = DeepTf(x, keep_prob_1, keep_prob_2, is_training)\n",
    "    \n",
    "    global_step = tf.Variable(0)\n",
    "    \n",
    "    # Name logits Tensor, so that is can be loaded from disk after training\n",
    "    with tf.name_scope('logits'):\n",
    "        logits = tf.identity(logits, name='logits')\n",
    "\n",
    "    # Loss and Optimizer\n",
    "    with tf.name_scope('cost'):\n",
    "        cost = tf.reduce_mean(tf.nn.softmax_cross_entropy_with_logits_v2(logits=logits, labels=y), name='cost')\n",
    "        tf.add_to_collection('losses', cost)\n",
    "        cost_with_l2 = tf.add_n(tf.get_collection('losses'), name='cost_with_l2')\n",
    "    \n",
    "    loss_summ = tf.summary.scalar('loss_with_l2', cost_with_l2)\n",
    "    loss_summ = tf.summary.scalar('loss', cost)\n",
    "\n",
    "    \n",
    "    #with tf.name_scope('cost'):\n",
    "    #    cost = tf.reduce_mean(tf.nn.softmax_cross_entropy_with_logits(logits=logits, labels=y), name='cost')\n",
    "    #loss_summ = tf.summary.scalar('loss', cost)\n",
    "    \n",
    "    with tf.name_scope('train'):\n",
    "        \n",
    "        # batch normalization in tensorflow requires this update dependency\n",
    "        update_ops = tf.get_collection(tf.GraphKeys.UPDATE_OPS)\n",
    "        with tf.control_dependencies(update_ops):\n",
    "            optimizer = tf.train.AdamOptimizer(learning_rate=lr).minimize(cost_with_l2, global_step=global_step)\n",
    "    \n",
    "    #tf.add_to_collection('cost_op', cost)\n",
    "    #tf.add_to_collection('train_op', optimizer)\n",
    "    \n",
    "    # Accuracy\n",
    "    with tf.name_scope('predictions'):\n",
    "        correct_pred = tf.equal(tf.argmax(logits, 1), tf.argmax(y, 1))\n",
    "        accuracy = tf.reduce_mean(tf.cast(correct_pred, DTYPE), name='accuracy')\n",
    "    accuracy_summ = tf.summary.scalar('accuracy', accuracy)\n",
    "    \n",
    "    #summary = tf.summary.merge([loss_summ, accuracy_summ], name='summary')\n",
    "    #Alternatively, you can use tf.summary.merge_all()\n",
    "    summary = tf.summary.merge_all()\n",
    "    \n",
    "    return x, y, keep_prob_1, keep_prob_2, lr, summary, optimizer, cost, accuracy, is_training"
   ]
  },
  {
   "cell_type": "markdown",
   "metadata": {},
   "source": [
    "## Train the Neural Network"
   ]
  },
  {
   "cell_type": "code",
   "execution_count": 73,
   "metadata": {},
   "outputs": [],
   "source": [
    "def train_neural_network(session, optimizer, keep_probability, feature_batch, label_batch, learn_rate_value):\n",
    "    \"\"\"\n",
    "    Optimize the session on a batch of images and labels\n",
    "    \n",
    "    Arguments:\n",
    "    : session: Current TensorFlow session\n",
    "    : optimizer: TensorFlow optimizer function\n",
    "    : keep_probability: keep probability\n",
    "    : feature_batch: Batch of Numpy image data\n",
    "    : label_batch: Batch of Numpy label data\n",
    "    \"\"\"\n",
    "    session.run(optimizer, feed_dict={x:feature_batch, y:label_batch, \n",
    "                                      keep_prob_1:keep_probability[0], keep_prob_2:keep_probability[1], \n",
    "                                      lr:learn_rate_value, is_training:True})"
   ]
  },
  {
   "cell_type": "markdown",
   "metadata": {},
   "source": [
    "## Show Stats"
   ]
  },
  {
   "cell_type": "code",
   "execution_count": 74,
   "metadata": {},
   "outputs": [],
   "source": [
    "def print_stats(session, feature_batch, label_batch, cost, accuracy, learn_rate_value, valid=None):\n",
    "    \"\"\"\n",
    "    Print information about loss and validation accuracy\n",
    "    \n",
    "    Arguments:\n",
    "    : session: Current TensorFlow session\n",
    "    : feature_batch: Batch of Numpy image data\n",
    "    : label_batch: Batch of Numpy label data\n",
    "    : cost: TensorFlow cost function\n",
    "    : accuracy: TensorFlow accuracy function\n",
    "    \"\"\"\n",
    "    if type(valid)==tuple:\n",
    "        train_loss = session.run(cost, feed_dict={x:feature_batch, y:label_batch, keep_prob_1:1.0, keep_prob_2:1.0,\n",
    "                                        lr:learn_rate_value, is_training: True})\n",
    "        train_acc = sess.run(accuracy, feed_dict={x: feature_batch, y: label_batch, keep_prob_1:1.0, keep_prob_2:1.0,\n",
    "                                              lr:learn_rate_value, is_training: True})\n",
    "        \n",
    "        val_loss = session.run(cost, feed_dict={x:valid[0], y:valid[1], keep_prob_1:1.0, keep_prob_2:1.0,\n",
    "                                        lr:learn_rate_value, is_training: False})\n",
    "        val_acc = sess.run(accuracy, feed_dict={x: valid[0], y: valid[1], keep_prob_1:1.0, keep_prob_2:1.0,\n",
    "                                              lr:learn_rate_value, is_training: False})\n",
    "        \n",
    "        print('Loss: {:>10.4f} Accuracy: {:.4f} ----- Valid Loss: {:>10.4f} Valid Accuracy: {:.4f}'\n",
    "              .format(train_loss, train_acc, val_loss, val_acc))\n",
    "    else:\n",
    "        train_loss = session.run(cost, feed_dict={x:feature_batch, y:label_batch, keep_prob_1:1.0, keep_prob_2:1.0,\n",
    "                                        lr:learn_rate_value, is_training: True})\n",
    "        train_acc = sess.run(accuracy, feed_dict={x: feature_batch, y: label_batch, keep_prob_1:1.0, keep_prob_2:1.0,\n",
    "                                              lr:learn_rate_value, is_training: True})\n",
    "        \n",
    "        print('Loss: {:>10.4f} Accuracy: {:.4f}'.format(train_loss, train_acc))"
   ]
  },
  {
   "cell_type": "markdown",
   "metadata": {},
   "source": [
    "## Hyperparameters"
   ]
  },
  {
   "cell_type": "code",
   "execution_count": 75,
   "metadata": {},
   "outputs": [],
   "source": [
    "# Tune Parameters\n",
    "epochs = 12\n",
    "batch_size = 128\n",
    "keep_probability = [0.5, 0.2]\n",
    "learning_rate_init = 0.001"
   ]
  },
  {
   "cell_type": "markdown",
   "metadata": {},
   "source": [
    "## Train on a Single Batch"
   ]
  },
  {
   "cell_type": "code",
   "execution_count": null,
   "metadata": {},
   "outputs": [],
   "source": [
    "print('Checking the Training on a Single Batch...')\n",
    "\n",
    "x, y, keep_prob_1, keep_prob_2, lr, summary, optimizer, cost, accuracy, is_training = build_op()\n",
    "\n",
    "with tf.Session() as sess:\n",
    "    # Initializing the variables\n",
    "    sess.run(tf.global_variables_initializer())\n",
    "    # Training cycle\n",
    "    learning_rate = learning_rate_init\n",
    "    for epoch in range(epochs):\n",
    "        \n",
    "        batch_i = 1\n",
    "        \n",
    "        for batch_features, batch_labels in load_preprocess_training_batch(batch_i, batch_size):\n",
    "            train_neural_network(sess, optimizer, keep_probability, batch_features, batch_labels, learning_rate)\n",
    "        \n",
    "        print('Epoch {:>2}, Batch {}:  '.format(epoch + 1, batch_i), end='')\n",
    "        print_stats(sess, batch_features, batch_labels, cost, accuracy, learning_rate, valid=(valid_features, valid_labels))"
   ]
  },
  {
   "cell_type": "markdown",
   "metadata": {},
   "source": [
    "## Train the Model"
   ]
  },
  {
   "cell_type": "code",
   "execution_count": null,
   "metadata": {
    "scrolled": true
   },
   "outputs": [],
   "source": [
    "save_model_path = './DeepTF_Model/model2'\n",
    "\n",
    "x, y, keep_prob_1, keep_prob_2, lr, summary, optimizer, cost, accuracy, is_training = build_op()\n",
    "print('Training...')\n",
    "with tf.Session() as sess:\n",
    "    # Initializing the variables\n",
    "    sess.run(tf.global_variables_initializer())\n",
    "    learning_rate = learning_rate_init\n",
    "    for epoch in range(epochs):\n",
    "        \n",
    "        n_batches = 12\n",
    "        index = np.array(range(n_batches))+1\n",
    "        np.random.shuffle(index)\n",
    "        \n",
    "        for batch_i in index : # range(1, n_batches + 1):\n",
    "            for batch_features, batch_labels in load_preprocess_training_batch(batch_i, batch_size):\n",
    "                train_neural_network(sess, optimizer, keep_probability, batch_features, batch_labels, learning_rate)\n",
    "\n",
    "            print('Epoch {:>2}, Batch {}:  '.format(epoch + 1, batch_i), end='')\n",
    "            print_stats(sess, batch_features, batch_labels, cost, accuracy, learning_rate, valid=(valid_features, valid_labels))\n",
    "    \n",
    "    # Save Model\n",
    "    saver = tf.train.Saver()\n",
    "    save_path = saver.save(sess, save_model_path)"
   ]
  },
  {
   "cell_type": "code",
   "execution_count": null,
   "metadata": {
    "scrolled": true
   },
   "outputs": [],
   "source": [
    "x, y, keep_prob_1, keep_prob_2, lr, summary, optimizer, cost, accuracy, is_training = build_op()\n",
    "\n",
    "print('Training...')\n",
    "with tf.Session() as sess:\n",
    "    steps = 0\n",
    "    counter = 0\n",
    "    learning_rate = learning_rate_init\n",
    "    # Initializing the variables\n",
    "    sess.run(tf.global_variables_initializer())\n",
    "\n",
    "    # If you want to compare training and validation, one good way to do it is to use two separate\n",
    "    # file writer to keep logs for each process but keep them in the same folder. This way, you can \n",
    "    # later view them in the same plot. \n",
    "    #train_log_string = './log/train, learning_rate={:.5f}, batch_size={}'.format(learning_rate, batch_size)\n",
    "    valid_log_string = './log/model2_dnn_valid, learning_rate={:.5f}, batch_size={}'.format(learning_rate, batch_size)\n",
    "    #train_filewriter = tf.summary.FileWriter(train_log_string, sess.graph)\n",
    "    valid_filewriter = tf.summary.FileWriter(valid_log_string, sess.graph)\n",
    "    \n",
    "    # Training cycle\n",
    "    for epoch in range(epochs):\n",
    "        # Loop over all batches\n",
    "        \n",
    "        n_batches = 12\n",
    "        index = np.array(range(n_batches))+1\n",
    "        np.random.shuffle(index)\n",
    "        \n",
    "        for batch_i in index : # range(1, n_batches + 1):\n",
    "            for batch_features, batch_labels in load_preprocess_training_batch(batch_i, batch_size):\n",
    "                steps += batch_features.shape[0]\n",
    "                counter += batch_features.shape[0]\n",
    "                sess.run(optimizer, feed_dict={x: batch_features, y: batch_labels,\n",
    "                                               keep_prob_1:keep_probability[0], keep_prob_2:keep_probability[1],\n",
    "                                               lr:learning_rate, is_training:True})\n",
    "\n",
    "                # Log only after the model is trained on every 500 samples. Getting summary takes time, so the \n",
    "                # more frequently you look, the more extra time it'll cost you.\n",
    "                if counter > 500:\n",
    "                    #train_summ = sess.run(summary, feed_dict={x: batch_features, y: batch_labels,\n",
    "                    #                                                   keep_prob: 1., lr:learning_rate})\n",
    "                    #train_filewriter.add_summary(train_summ, steps)\n",
    "                    valid_summ = sess.run(summary, feed_dict={x: valid_features, y: valid_labels,\n",
    "                                                               keep_prob_1:1.0, keep_prob_2:1.0,\n",
    "                                                              lr:learning_rate, is_training:False})\n",
    "\n",
    "                    valid_filewriter.add_summary(valid_summ, steps)\n",
    "                    counter -= 500\n",
    "\n",
    "            print('Epoch {:>2}, Batch {}:  '.format(epoch + 1, batch_i), end='')\n",
    "            print_stats(sess, batch_features, batch_labels, cost, accuracy, learning_rate, valid=(valid_features, valid_labels))\n",
    "    # Save Model\n",
    "    save_model_path = './DeepTF_Model/model2'\n",
    "    saver = tf.train.Saver()\n",
    "    save_path = saver.save(sess, save_model_path)"
   ]
  },
  {
   "cell_type": "markdown",
   "metadata": {},
   "source": [
    "## Test on the batches 13~15"
   ]
  },
  {
   "cell_type": "code",
   "execution_count": 78,
   "metadata": {},
   "outputs": [
    {
     "name": "stdout",
     "output_type": "stream",
     "text": [
      "INFO:tensorflow:Restoring parameters from ./DeepTF_Model/model2\n",
      "Testing Accuracy: 0.9031096796194712\n",
      "\n"
     ]
    }
   ],
   "source": [
    "import tensorflow as tf\n",
    "import pickle\n",
    "import random\n",
    "\n",
    "# Set batch size if not already set\n",
    "\n",
    "try:\n",
    "    if batch_size:\n",
    "        pass\n",
    "except NameError:\n",
    "    batch_size = 32\n",
    "\n",
    "save_model_path = './DeepTF_Model/model2'\n",
    "\n",
    "def test_model():\n",
    "    \"\"\"\n",
    "    Test the saved model against the test dataset\n",
    "    \"\"\"\n",
    "\n",
    "    test_features_1, test_labels_1 = pickle.load(open('./dataset/train_batch_13.p', mode='rb'))\n",
    "    test_features_2, test_labels_2 = pickle.load(open('./dataset/train_batch_14.p', mode='rb'))\n",
    "    test_features_3, test_labels_3 = pickle.load(open('./dataset/train_batch_15.p', mode='rb'))\n",
    "    test_features = np.concatenate([test_features_1,test_features_2,test_features_3])\n",
    "    test_labels = np.concatenate([test_labels_1, test_labels_2, test_labels_3])\n",
    "    loaded_graph = tf.Graph()\n",
    "\n",
    "    with tf.Session(graph=loaded_graph) as sess:\n",
    "        # Load model\n",
    "        loader = tf.train.import_meta_graph(save_model_path + '.meta')\n",
    "        loader.restore(sess, save_model_path)\n",
    "\n",
    "        # Get Tensors from loaded model\n",
    "        loaded_x = loaded_graph.get_tensor_by_name('inputs/x:0')\n",
    "        loaded_y = loaded_graph.get_tensor_by_name('inputs/y:0')\n",
    "        loaded_keep_prob_1 = loaded_graph.get_tensor_by_name('inputs/keep_prob_1:0')\n",
    "        loaded_keep_prob_2 = loaded_graph.get_tensor_by_name('inputs/keep_prob_2:0')\n",
    "        loaded_logits = loaded_graph.get_tensor_by_name('logits/logits:0')\n",
    "        loaded_acc = loaded_graph.get_tensor_by_name('predictions/accuracy:0')\n",
    "        loaded_is_training = loaded_graph.get_tensor_by_name('inputs/is_training:0')\n",
    "        \n",
    "        # Get accuracy in batches for memory limitations\n",
    "        test_batch_acc_total = 0\n",
    "        test_batch_count = 0\n",
    "        \n",
    "        for test_feature_batch, test_label_batch in batch_features_labels(test_features, test_labels, batch_size):\n",
    "            test_batch_acc_total += sess.run(\n",
    "                loaded_acc,\n",
    "                feed_dict={loaded_x: test_feature_batch, loaded_y: test_label_batch, loaded_keep_prob_1: 1.0, loaded_keep_prob_2: 1.0,\n",
    "                           loaded_is_training:False})\n",
    "            test_batch_count += 1\n",
    "\n",
    "        print('Testing Accuracy: {}\\n'.format(test_batch_acc_total/test_batch_count))\n",
    "        \n",
    "        test_predictions = sess.run(\n",
    "            tf.nn.softmax(loaded_logits),\n",
    "            feed_dict={loaded_x: test_features, loaded_y: test_labels, loaded_keep_prob_1: 1.0, loaded_keep_prob_2: 1.0,\n",
    "                       loaded_is_training:False})\n",
    "    return test_labels, test_predictions\n",
    "\n",
    "y_test, y_pred = test_model()"
   ]
  },
  {
   "cell_type": "code",
   "execution_count": 79,
   "metadata": {},
   "outputs": [],
   "source": [
    "y_pred_decode=np.argmax(y_pred,1)"
   ]
  },
  {
   "cell_type": "markdown",
   "metadata": {},
   "source": [
    "## Evaluate the Model with Confusion Matrix, F1-Score, ROC Curve, AUC..."
   ]
  },
  {
   "cell_type": "markdown",
   "metadata": {},
   "source": [
    "### Confusion Matrix\n",
    "\n",
    "|                | Predicted Positive | Predicted Negative |\n",
    "|:--------------:|:------------------:|:------------------:|\n",
    "|Actual Positive | TP (True Positive) | FN (False Negative)|\n",
    "|Actual Negative | FP (False Positive)| TN (True Negative) |"
   ]
  },
  {
   "cell_type": "code",
   "execution_count": 80,
   "metadata": {},
   "outputs": [],
   "source": [
    "from sklearn.metrics import confusion_matrix\n",
    "from sklearn.preprocessing import LabelBinarizer\n",
    "n_classes = 2\n",
    "label_binarizer = LabelBinarizer()\n",
    "label_binarizer.fit(range(n_classes))\n",
    "y_test_decode = label_binarizer.inverse_transform(y_test)\n",
    "cnf_matrix = confusion_matrix(y_test_decode, y_pred_decode)"
   ]
  },
  {
   "cell_type": "code",
   "execution_count": 81,
   "metadata": {},
   "outputs": [],
   "source": [
    "import itertools\n",
    "def plot_confusion_matrix(cm, classes,\n",
    "                          normalize=False,\n",
    "                          title='Confusion matrix',\n",
    "                          cmap=plt.cm.Blues):\n",
    "    \"\"\"\n",
    "    This function prints and plots the confusion matrix.\n",
    "    Normalization can be applied by setting `normalize=True`.\n",
    "    \"\"\"\n",
    "    if normalize:\n",
    "        cm = cm.astype('float') / cm.sum(axis=1)[:, np.newaxis]\n",
    "        print(\"Normalized confusion matrix\")\n",
    "    else:\n",
    "        print('Confusion matrix, without normalization')\n",
    "\n",
    "    print(cm)\n",
    "\n",
    "    plt.imshow(cm, interpolation='nearest', cmap=cmap)\n",
    "    plt.title(title)\n",
    "    plt.colorbar()\n",
    "    tick_marks = np.arange(len(classes))\n",
    "    plt.xticks(tick_marks, classes, rotation=45)\n",
    "    plt.yticks(tick_marks, classes)\n",
    "\n",
    "    fmt = '.2f' if normalize else 'd'\n",
    "    thresh = cm.max() / 2.\n",
    "    for i, j in itertools.product(range(cm.shape[0]), range(cm.shape[1])):\n",
    "        plt.text(j, i, format(cm[i, j], fmt),\n",
    "                 horizontalalignment=\"center\",\n",
    "                 color=\"white\" if cm[i, j] > thresh else \"black\")\n",
    "\n",
    "    plt.tight_layout()\n",
    "    plt.ylabel('True label')\n",
    "    plt.xlabel('Predicted label')"
   ]
  },
  {
   "cell_type": "code",
   "execution_count": 82,
   "metadata": {},
   "outputs": [
    {
     "name": "stdout",
     "output_type": "stream",
     "text": [
      "Confusion matrix, without normalization\n",
      "[[356  36]\n",
      " [ 34 282]]\n",
      "Normalized confusion matrix\n",
      "[[0.91 0.09]\n",
      " [0.11 0.89]]\n"
     ]
    },
    {
     "data": {
      "image/png": "[encoded data removed]",
      "text/plain": [
       "<Figure size 432x288 with 2 Axes>"
      ]
     },
     "metadata": {},
     "output_type": "display_data"
    },
    {
     "data": {
      "image/png": "[encoded data removed]",
      "text/plain": [
       "<Figure size 432x288 with 2 Axes>"
      ]
     },
     "metadata": {},
     "output_type": "display_data"
    }
   ],
   "source": [
    "np.set_printoptions(precision=2)\n",
    "class_names=np.array(['Spliced', 'Retained'])\n",
    "# Plot non-normalized confusion matrix\n",
    "plt.figure()\n",
    "plot_confusion_matrix(cnf_matrix, classes=class_names,\n",
    "                      title='Confusion matrix, without normalization')\n",
    "\n",
    "# Plot normalized confusion matrix\n",
    "plt.figure()\n",
    "plot_confusion_matrix(cnf_matrix, classes=class_names, normalize=True,\n",
    "                      title='Normalized confusion matrix')\n",
    "\n",
    "plt.show()"
   ]
  },
  {
   "cell_type": "markdown",
   "metadata": {},
   "source": [
    "### F1-Score\n",
    "$Accuracy = \\frac{TP + TN}{TP + TN + FP + FN}$\n",
    "\n",
    "$Precision = \\frac{TP}{TP + FP}$\n",
    "\n",
    "$Recall = \\frac{TP}{TP + TN}$\n",
    "\n",
    "$F1-score =2 \\times {\\frac{2}{\\frac{1}{Recall} + \\frac{1}{Precision}}} = 2 \\times{\\frac{Precision \\times Recall}{Precision + Recall}}$"
   ]
  },
  {
   "cell_type": "code",
   "execution_count": 83,
   "metadata": {},
   "outputs": [
    {
     "name": "stdout",
     "output_type": "stream",
     "text": [
      "Precision: 0.8998064828253507\n",
      "Recall: 0.9002841642986308\n",
      "F1 Score: 0.9000379194333061\n"
     ]
    }
   ],
   "source": [
    "from sklearn.metrics import precision_recall_fscore_support\n",
    "precision,recall,f1_score,support=precision_recall_fscore_support(y_test_decode, y_pred_decode, average='macro')\n",
    "print('Precision: {}'.format(precision))\n",
    "print('Recall: {}'.format(recall))\n",
    "print('F1 Score: {}'.format(f1_score))"
   ]
  },
  {
   "cell_type": "markdown",
   "metadata": {},
   "source": [
    "### ROC Curve and AUC"
   ]
  },
  {
   "cell_type": "code",
   "execution_count": 84,
   "metadata": {},
   "outputs": [],
   "source": [
    "from sklearn.metrics import roc_curve, auc\n",
    "from itertools import cycle"
   ]
  },
  {
   "cell_type": "code",
   "execution_count": 85,
   "metadata": {},
   "outputs": [],
   "source": [
    "# Compute ROC curve and ROC area for each class\n",
    "fpr = dict()\n",
    "tpr = dict()\n",
    "roc_auc = dict()\n",
    "for i in range(n_classes):\n",
    "    fpr[i], tpr[i], _ = roc_curve(y_test[:, i], y_pred[:, i])\n",
    "    roc_auc[i] = auc(fpr[i], tpr[i])"
   ]
  },
  {
   "cell_type": "code",
   "execution_count": 86,
   "metadata": {},
   "outputs": [
    {
     "data": {
      "image/png": "[encoded data removed]",
      "text/plain": [
       "<Figure size 432x288 with 1 Axes>"
      ]
     },
     "metadata": {},
     "output_type": "display_data"
    }
   ],
   "source": [
    "plt.figure()\n",
    "lw = 2\n",
    "#plt.plot(fpr[0], tpr[0], color='darkorange',\n",
    "#         lw=lw, label='ROC curve (area = %0.2f)' % roc_auc[0])\n",
    "colors = cycle(['aqua', 'darkorange'])\n",
    "for i, color in zip(range(n_classes), colors):\n",
    "    plt.plot(fpr[i], tpr[i], color=color, lw=lw,\n",
    "             label='ROC curve of class {0} (area = {1:0.2f})'\n",
    "             ''.format(i, roc_auc[i]))\n",
    "plt.plot([0, 1], [0, 1], color='navy', lw=lw, linestyle='--')\n",
    "plt.xlim([0.0, 1.0])\n",
    "plt.ylim([0.0, 1.05])\n",
    "plt.xlabel('False Positive Rate')\n",
    "plt.ylabel('True Positive Rate')\n",
    "plt.title('Receiver operating characteristic example')\n",
    "plt.legend(loc=\"lower right\")\n",
    "plt.show()"
   ]
  },
  {
   "cell_type": "markdown",
   "metadata": {},
   "source": [
    "## 10-fold Cross-Validation"
   ]
  },
  {
   "cell_type": "code",
   "execution_count": 87,
   "metadata": {},
   "outputs": [],
   "source": [
    "from sklearn.model_selection import StratifiedKFold"
   ]
  },
  {
   "cell_type": "code",
   "execution_count": 88,
   "metadata": {},
   "outputs": [],
   "source": [
    "def cross_validation_scores(score_list, mode):\n",
    "    \"\"\"\n",
    "    Print the acc and auc of cross-validation data\n",
    "    \"\"\"\n",
    "    score_array = np.asarray(score_list)\n",
    "    if mode == 'percentage':\n",
    "        score = '%.2f +- %.2f%%' % (np.mean(score_array)*100, np.std(score_array)*100)\n",
    "    elif mode == 'decimal':\n",
    "        score = '%.3f +- %.3f' % (np.mean(score_array), np.std(score_array))\n",
    "    return score"
   ]
  },
  {
   "cell_type": "code",
   "execution_count": 89,
   "metadata": {},
   "outputs": [
    {
     "name": "stdout",
     "output_type": "stream",
     "text": [
      "10-fold cross validation\n"
     ]
    }
   ],
   "source": [
    "skf = StratifiedKFold(n_splits=10, shuffle=True, random_state=6666)\n",
    "print('%d-fold cross validation'%10)"
   ]
  },
  {
   "cell_type": "code",
   "execution_count": 90,
   "metadata": {},
   "outputs": [],
   "source": [
    "train_features, train_labels = pickle.load(open('./dataset/validation.p', mode='rb'))\n",
    "for batch_id in range(1,12+1):\n",
    "    filename = './dataset/train_batch_' + str(batch_id) + '.p'\n",
    "    features, labels = pickle.load(open(filename, mode='rb'))\n",
    "    train_features = np.vstack([train_features,features])\n",
    "    train_labels=np.vstack([train_labels,labels])"
   ]
  },
  {
   "cell_type": "code",
   "execution_count": 91,
   "metadata": {},
   "outputs": [
    {
     "data": {
      "text/plain": [
       "(3078, 307, 2500)"
      ]
     },
     "execution_count": 91,
     "metadata": {},
     "output_type": "execute_result"
    }
   ],
   "source": [
    "train_features.shape"
   ]
  },
  {
   "cell_type": "code",
   "execution_count": 92,
   "metadata": {},
   "outputs": [],
   "source": [
    "def DeepTf(X, keep_prob_1, keep_prob_2, is_training=False):\n",
    "    \"\"\"\n",
    "    Create a convolutional/dense neural network model\n",
    "    \n",
    "    Arguments:\n",
    "    : x: Placeholder tensor that holds data.\n",
    "    : keep_prob: Placeholder tensor that hold dropout keep probability.\n",
    "    : is_training: Placeholder bool that hold the flag to determine training is True or False, default is False\n",
    "    \n",
    "    Returns:\n",
    "    : Tensor that represents logits\n",
    "    \"\"\"\n",
    "    \n",
    "    with tf.name_scope(\"CNN\"):\n",
    "    \n",
    "        with tf.variable_scope('conv1'):\n",
    "            X = conv1d(X, conv_num_outputs=128, conv_ksize=7, conv_strides=1, is_training=is_training, padding = 'SAME', l2_regularize=True, wd=0.001)\n",
    "            X = max_pooling1d(X, pool_ksize=3, pool_strides=1)\n",
    "            X = tf.nn.dropout(X, keep_prob_2)\n",
    "\n",
    "        X = flatten(X)\n",
    "        \n",
    "        with tf.variable_scope('fc1'):\n",
    "            X = fully_conn(X, num_outputs=128, is_training= is_training, l2_regularize=True, wd=0.001)\n",
    "            X = tf.nn.dropout(X, keep_prob_2)\n",
    "        with tf.variable_scope('fc2'):\n",
    "            X = fully_conn(X, num_outputs=256, is_training = is_training, l2_regularize=True, wd=0.001)\n",
    "            X = tf.nn.dropout(X, keep_prob_2)\n",
    "            \n",
    "        X = output(X, 2)\n",
    "        \n",
    "    \n",
    "    return X"
   ]
  },
  {
   "cell_type": "code",
   "execution_count": 93,
   "metadata": {
    "scrolled": true
   },
   "outputs": [
    {
     "name": "stdout",
     "output_type": "stream",
     "text": [
      "Training for the 1 th-fold...\n",
      "Epoch  1  Loss:     0.6330 Accuracy: 0.6463 ----- Valid Loss:     0.6438 Valid Accuracy: 0.7045\n",
      "Epoch  2  Loss:     0.4447 Accuracy: 0.7927 ----- Valid Loss:     0.6391 Valid Accuracy: 0.6071\n",
      "Epoch  3  Loss:     0.3409 Accuracy: 0.8659 ----- Valid Loss:     0.6213 Valid Accuracy: 0.7890\n",
      "Epoch  4  Loss:     0.2649 Accuracy: 0.8902 ----- Valid Loss:     0.6011 Valid Accuracy: 0.8279\n",
      "Epoch  5  Loss:     0.1864 Accuracy: 0.9268 ----- Valid Loss:     0.5891 Valid Accuracy: 0.6916\n",
      "Epoch  6  Loss:     0.1471 Accuracy: 0.9512 ----- Valid Loss:     0.5320 Valid Accuracy: 0.7695\n",
      "Epoch  7  Loss:     0.1159 Accuracy: 0.9268 ----- Valid Loss:     0.4982 Valid Accuracy: 0.7468\n",
      "Epoch  8  Loss:     0.0858 Accuracy: 0.9634 ----- Valid Loss:     0.4138 Valid Accuracy: 0.8312\n",
      "Epoch  9  Loss:     0.0566 Accuracy: 0.9756 ----- Valid Loss:     0.3667 Valid Accuracy: 0.8571\n",
      "Epoch 10  Loss:     0.0316 Accuracy: 1.0000 ----- Valid Loss:     0.3282 Valid Accuracy: 0.8636\n",
      "Epoch 11  Loss:     0.0316 Accuracy: 0.9878 ----- Valid Loss:     0.2916 Valid Accuracy: 0.8669\n",
      "Epoch 12  Loss:     0.0323 Accuracy: 0.9878 ----- Valid Loss:     0.2820 Valid Accuracy: 0.8766\n",
      "Training for the 2 th-fold...\n",
      "Epoch  1  Loss:     0.4772 Accuracy: 0.7439 ----- Valid Loss:     0.6577 Valid Accuracy: 0.6169\n",
      "Epoch  2  Loss:     0.3350 Accuracy: 0.8659 ----- Valid Loss:     0.6409 Valid Accuracy: 0.6429\n",
      "Epoch  3  Loss:     0.2277 Accuracy: 0.9146 ----- Valid Loss:     0.6791 Valid Accuracy: 0.4903\n",
      "Epoch  4  Loss:     0.1987 Accuracy: 0.9024 ----- Valid Loss:     0.6721 Valid Accuracy: 0.4903\n",
      "Epoch  5  Loss:     0.1383 Accuracy: 0.9268 ----- Valid Loss:     0.6125 Valid Accuracy: 0.5877\n",
      "Epoch  6  Loss:     0.0861 Accuracy: 0.9634 ----- Valid Loss:     0.5507 Valid Accuracy: 0.7110\n",
      "Epoch  7  Loss:     0.1222 Accuracy: 0.9512 ----- Valid Loss:     0.4659 Valid Accuracy: 0.8084\n",
      "Epoch  8  Loss:     0.0402 Accuracy: 0.9878 ----- Valid Loss:     0.4430 Valid Accuracy: 0.8214\n",
      "Epoch  9  Loss:     0.0193 Accuracy: 0.9878 ----- Valid Loss:     0.4000 Valid Accuracy: 0.8409\n",
      "Epoch 10  Loss:     0.0190 Accuracy: 1.0000 ----- Valid Loss:     0.3979 Valid Accuracy: 0.8409\n",
      "Epoch 11  Loss:     0.0180 Accuracy: 0.9878 ----- Valid Loss:     0.3845 Valid Accuracy: 0.8279\n",
      "Epoch 12  Loss:     0.0144 Accuracy: 1.0000 ----- Valid Loss:     0.4254 Valid Accuracy: 0.7987\n",
      "Training for the 3 th-fold...\n",
      "Epoch  1  Loss:     0.5642 Accuracy: 0.6829 ----- Valid Loss:     0.6571 Valid Accuracy: 0.6851\n",
      "Epoch  2  Loss:     0.4428 Accuracy: 0.7439 ----- Valid Loss:     0.6416 Valid Accuracy: 0.6753\n",
      "Epoch  3  Loss:     0.4169 Accuracy: 0.7805 ----- Valid Loss:     0.6288 Valid Accuracy: 0.6169\n",
      "Epoch  4  Loss:     0.2406 Accuracy: 0.9024 ----- Valid Loss:     0.6043 Valid Accuracy: 0.7825\n",
      "Epoch  5  Loss:     0.1445 Accuracy: 0.9512 ----- Valid Loss:     0.5988 Valid Accuracy: 0.6429\n",
      "Epoch  6  Loss:     0.0910 Accuracy: 0.9878 ----- Valid Loss:     0.5458 Valid Accuracy: 0.7078\n",
      "Epoch  7  Loss:     0.0542 Accuracy: 0.9878 ----- Valid Loss:     0.5044 Valid Accuracy: 0.7435\n",
      "Epoch  8  Loss:     0.0466 Accuracy: 0.9878 ----- Valid Loss:     0.4315 Valid Accuracy: 0.8214\n",
      "Epoch  9  Loss:     0.0448 Accuracy: 0.9878 ----- Valid Loss:     0.3841 Valid Accuracy: 0.8571\n",
      "Epoch 10  Loss:     0.0575 Accuracy: 0.9756 ----- Valid Loss:     0.3445 Valid Accuracy: 0.8701\n",
      "Epoch 11  Loss:     0.0723 Accuracy: 0.9756 ----- Valid Loss:     0.3114 Valid Accuracy: 0.8734\n",
      "Epoch 12  Loss:     0.0690 Accuracy: 0.9756 ----- Valid Loss:     0.3010 Valid Accuracy: 0.8766\n",
      "Training for the 4 th-fold...\n",
      "Epoch  1  Loss:     0.5581 Accuracy: 0.6951 ----- Valid Loss:     0.6586 Valid Accuracy: 0.5942\n",
      "Epoch  2  Loss:     0.4024 Accuracy: 0.8171 ----- Valid Loss:     0.6539 Valid Accuracy: 0.6071\n",
      "Epoch  3  Loss:     0.3340 Accuracy: 0.8537 ----- Valid Loss:     0.6686 Valid Accuracy: 0.5227\n",
      "Epoch  4  Loss:     0.2278 Accuracy: 0.9146 ----- Valid Loss:     0.6249 Valid Accuracy: 0.6201\n",
      "Epoch  5  Loss:     0.1672 Accuracy: 0.9512 ----- Valid Loss:     0.5653 Valid Accuracy: 0.7890\n",
      "Epoch  6  Loss:     0.1100 Accuracy: 0.9756 ----- Valid Loss:     0.5215 Valid Accuracy: 0.8117\n",
      "Epoch  7  Loss:     0.0809 Accuracy: 0.9756 ----- Valid Loss:     0.4772 Valid Accuracy: 0.7955\n",
      "Epoch  8  Loss:     0.0762 Accuracy: 0.9634 ----- Valid Loss:     0.4159 Valid Accuracy: 0.8636\n",
      "Epoch  9  Loss:     0.0528 Accuracy: 0.9756 ----- Valid Loss:     0.3709 Valid Accuracy: 0.8734\n",
      "Epoch 10  Loss:     0.0340 Accuracy: 0.9878 ----- Valid Loss:     0.3624 Valid Accuracy: 0.8377\n",
      "Epoch 11  Loss:     0.0497 Accuracy: 0.9756 ----- Valid Loss:     0.3221 Valid Accuracy: 0.8506\n",
      "Epoch 12  Loss:     0.0375 Accuracy: 0.9756 ----- Valid Loss:     0.2997 Valid Accuracy: 0.8636\n",
      "Training for the 5 th-fold...\n",
      "Epoch  1  Loss:     0.6837 Accuracy: 0.6220 ----- Valid Loss:     0.6478 Valid Accuracy: 0.6818\n",
      "Epoch  2  Loss:     0.4831 Accuracy: 0.7683 ----- Valid Loss:     0.6449 Valid Accuracy: 0.6071\n",
      "Epoch  3  Loss:     0.3470 Accuracy: 0.8659 ----- Valid Loss:     0.6388 Valid Accuracy: 0.5747\n",
      "Epoch  4  Loss:     0.2654 Accuracy: 0.9146 ----- Valid Loss:     0.6179 Valid Accuracy: 0.6948\n",
      "Epoch  5  Loss:     0.2014 Accuracy: 0.9390 ----- Valid Loss:     0.5760 Valid Accuracy: 0.8019\n",
      "Epoch  6  Loss:     0.1388 Accuracy: 0.9512 ----- Valid Loss:     0.5486 Valid Accuracy: 0.7955\n",
      "Epoch  7  Loss:     0.0850 Accuracy: 0.9756 ----- Valid Loss:     0.4903 Valid Accuracy: 0.8214\n",
      "Epoch  8  Loss:     0.0552 Accuracy: 0.9878 ----- Valid Loss:     0.4322 Valid Accuracy: 0.8539\n",
      "Epoch  9  Loss:     0.0417 Accuracy: 0.9756 ----- Valid Loss:     0.4050 Valid Accuracy: 0.8442\n",
      "Epoch 10  Loss:     0.0227 Accuracy: 0.9878 ----- Valid Loss:     0.3959 Valid Accuracy: 0.8312\n",
      "Epoch 11  Loss:     0.0043 Accuracy: 1.0000 ----- Valid Loss:     0.3256 Valid Accuracy: 0.8669\n",
      "Epoch 12  Loss:     0.0028 Accuracy: 1.0000 ----- Valid Loss:     0.3379 Valid Accuracy: 0.8701\n",
      "Training for the 6 th-fold...\n",
      "Epoch  1  Loss:     0.5480 Accuracy: 0.7195 ----- Valid Loss:     0.6534 Valid Accuracy: 0.6299\n",
      "Epoch  2  Loss:     0.4214 Accuracy: 0.7805 ----- Valid Loss:     0.6432 Valid Accuracy: 0.5974\n",
      "Epoch  3  Loss:     0.2766 Accuracy: 0.8537 ----- Valid Loss:     0.6295 Valid Accuracy: 0.7208\n",
      "Epoch  4  Loss:     0.1994 Accuracy: 0.8902 ----- Valid Loss:     0.6008 Valid Accuracy: 0.6786\n",
      "Epoch  5  Loss:     0.1599 Accuracy: 0.9390 ----- Valid Loss:     0.5574 Valid Accuracy: 0.7565\n",
      "Epoch  6  Loss:     0.1177 Accuracy: 0.9756 ----- Valid Loss:     0.5084 Valid Accuracy: 0.8344\n",
      "Epoch  7  Loss:     0.0786 Accuracy: 0.9878 ----- Valid Loss:     0.4526 Valid Accuracy: 0.8669\n",
      "Epoch  8  Loss:     0.0482 Accuracy: 0.9878 ----- Valid Loss:     0.4026 Valid Accuracy: 0.8636\n",
      "Epoch  9  Loss:     0.0384 Accuracy: 0.9878 ----- Valid Loss:     0.3616 Valid Accuracy: 0.8669\n",
      "Epoch 10  Loss:     0.0193 Accuracy: 0.9878 ----- Valid Loss:     0.3381 Valid Accuracy: 0.8539\n",
      "Epoch 11  Loss:     0.0151 Accuracy: 0.9878 ----- Valid Loss:     0.3212 Valid Accuracy: 0.8701\n",
      "Epoch 12  Loss:     0.0439 Accuracy: 0.9756 ----- Valid Loss:     0.3054 Valid Accuracy: 0.8636\n",
      "Training for the 7 th-fold...\n",
      "Epoch  1  Loss:     0.5355 Accuracy: 0.7561 ----- Valid Loss:     0.6669 Valid Accuracy: 0.5942\n",
      "Epoch  2  Loss:     0.3944 Accuracy: 0.8537 ----- Valid Loss:     0.6522 Valid Accuracy: 0.6461\n",
      "Epoch  3  Loss:     0.3472 Accuracy: 0.8537 ----- Valid Loss:     0.6491 Valid Accuracy: 0.6071\n",
      "Epoch  4  Loss:     0.2577 Accuracy: 0.9146 ----- Valid Loss:     0.6238 Valid Accuracy: 0.7792\n",
      "Epoch  5  Loss:     0.1777 Accuracy: 0.9512 ----- Valid Loss:     0.5819 Valid Accuracy: 0.7695\n",
      "Epoch  6  Loss:     0.1315 Accuracy: 0.9634 ----- Valid Loss:     0.5385 Valid Accuracy: 0.8312\n",
      "Epoch  7  Loss:     0.0928 Accuracy: 0.9756 ----- Valid Loss:     0.4961 Valid Accuracy: 0.8052\n",
      "Epoch  8  Loss:     0.0712 Accuracy: 0.9756 ----- Valid Loss:     0.4379 Valid Accuracy: 0.8539\n",
      "Epoch  9  Loss:     0.0558 Accuracy: 0.9878 ----- Valid Loss:     0.4006 Valid Accuracy: 0.8539\n",
      "Epoch 10  Loss:     0.0236 Accuracy: 0.9878 ----- Valid Loss:     0.3738 Valid Accuracy: 0.8539\n",
      "Epoch 11  Loss:     0.0098 Accuracy: 1.0000 ----- Valid Loss:     0.3520 Valid Accuracy: 0.8539\n",
      "Epoch 12  Loss:     0.0065 Accuracy: 1.0000 ----- Valid Loss:     0.3320 Valid Accuracy: 0.8636\n"
     ]
    },
    {
     "name": "stdout",
     "output_type": "stream",
     "text": [
      "Training for the 8 th-fold...\n",
      "Epoch  1  Loss:     0.6446 Accuracy: 0.6220 ----- Valid Loss:     0.6742 Valid Accuracy: 0.5455\n",
      "Epoch  2  Loss:     0.4197 Accuracy: 0.8537 ----- Valid Loss:     0.6620 Valid Accuracy: 0.5325\n",
      "Epoch  3  Loss:     0.3163 Accuracy: 0.9268 ----- Valid Loss:     0.6366 Valid Accuracy: 0.6818\n",
      "Epoch  4  Loss:     0.2344 Accuracy: 0.9024 ----- Valid Loss:     0.6103 Valid Accuracy: 0.7760\n",
      "Epoch  5  Loss:     0.1843 Accuracy: 0.9268 ----- Valid Loss:     0.5646 Valid Accuracy: 0.8377\n",
      "Epoch  6  Loss:     0.1403 Accuracy: 0.9268 ----- Valid Loss:     0.5133 Valid Accuracy: 0.8247\n",
      "Epoch  7  Loss:     0.0707 Accuracy: 0.9634 ----- Valid Loss:     0.4605 Valid Accuracy: 0.8182\n",
      "Epoch  8  Loss:     0.0548 Accuracy: 0.9878 ----- Valid Loss:     0.4144 Valid Accuracy: 0.8182\n",
      "Epoch  9  Loss:     0.0469 Accuracy: 0.9878 ----- Valid Loss:     0.3941 Valid Accuracy: 0.8182\n",
      "Epoch 10  Loss:     0.0331 Accuracy: 0.9878 ----- Valid Loss:     0.3470 Valid Accuracy: 0.8506\n",
      "Epoch 11  Loss:     0.0541 Accuracy: 0.9756 ----- Valid Loss:     0.3096 Valid Accuracy: 0.8701\n",
      "Epoch 12  Loss:     0.0365 Accuracy: 0.9878 ----- Valid Loss:     0.3100 Valid Accuracy: 0.8604\n",
      "Training for the 9 th-fold...\n",
      "Epoch  1  Loss:     0.6487 Accuracy: 0.6585 ----- Valid Loss:     0.6502 Valid Accuracy: 0.6494\n",
      "Epoch  2  Loss:     0.5118 Accuracy: 0.7439 ----- Valid Loss:     0.6473 Valid Accuracy: 0.6526\n",
      "Epoch  3  Loss:     0.4114 Accuracy: 0.8537 ----- Valid Loss:     0.6524 Valid Accuracy: 0.5877\n",
      "Epoch  4  Loss:     0.3134 Accuracy: 0.8415 ----- Valid Loss:     0.6220 Valid Accuracy: 0.6039\n",
      "Epoch  5  Loss:     0.2424 Accuracy: 0.9146 ----- Valid Loss:     0.5826 Valid Accuracy: 0.6721\n",
      "Epoch  6  Loss:     0.1607 Accuracy: 0.9512 ----- Valid Loss:     0.5170 Valid Accuracy: 0.7890\n",
      "Epoch  7  Loss:     0.1032 Accuracy: 0.9634 ----- Valid Loss:     0.4691 Valid Accuracy: 0.8312\n",
      "Epoch  8  Loss:     0.0827 Accuracy: 0.9512 ----- Valid Loss:     0.4274 Valid Accuracy: 0.8474\n",
      "Epoch  9  Loss:     0.0511 Accuracy: 0.9756 ----- Valid Loss:     0.3834 Valid Accuracy: 0.8636\n",
      "Epoch 10  Loss:     0.0364 Accuracy: 0.9878 ----- Valid Loss:     0.3400 Valid Accuracy: 0.8799\n",
      "Epoch 11  Loss:     0.0204 Accuracy: 0.9878 ----- Valid Loss:     0.3135 Valid Accuracy: 0.8831\n",
      "Epoch 12  Loss:     0.0213 Accuracy: 0.9878 ----- Valid Loss:     0.3101 Valid Accuracy: 0.8604\n",
      "Training for the 10 th-fold...\n",
      "Epoch  1  Loss:     0.5047 Accuracy: 0.7857 ----- Valid Loss:     0.6645 Valid Accuracy: 0.6601\n",
      "Epoch  2  Loss:     0.3884 Accuracy: 0.8214 ----- Valid Loss:     0.6593 Valid Accuracy: 0.6863\n",
      "Epoch  3  Loss:     0.3067 Accuracy: 0.8810 ----- Valid Loss:     0.6788 Valid Accuracy: 0.4869\n",
      "Epoch  4  Loss:     0.2164 Accuracy: 0.9405 ----- Valid Loss:     0.7164 Valid Accuracy: 0.4673\n",
      "Epoch  5  Loss:     0.1683 Accuracy: 0.9167 ----- Valid Loss:     0.6734 Valid Accuracy: 0.4902\n",
      "Epoch  6  Loss:     0.1195 Accuracy: 0.9405 ----- Valid Loss:     0.6238 Valid Accuracy: 0.5523\n",
      "Epoch  7  Loss:     0.0762 Accuracy: 0.9881 ----- Valid Loss:     0.5647 Valid Accuracy: 0.6242\n",
      "Epoch  8  Loss:     0.0500 Accuracy: 0.9762 ----- Valid Loss:     0.4663 Valid Accuracy: 0.7974\n",
      "Epoch  9  Loss:     0.0262 Accuracy: 1.0000 ----- Valid Loss:     0.4081 Valid Accuracy: 0.8268\n",
      "Epoch 10  Loss:     0.0169 Accuracy: 0.9881 ----- Valid Loss:     0.3737 Valid Accuracy: 0.8072\n",
      "Epoch 11  Loss:     0.0225 Accuracy: 0.9881 ----- Valid Loss:     0.3565 Valid Accuracy: 0.8203\n",
      "Epoch 12  Loss:     0.0049 Accuracy: 1.0000 ----- Valid Loss:     0.3711 Valid Accuracy: 0.8235\n",
      "Loss: 0.327 +- 0.040\n",
      "Accuracy: 85.57 +- 2.37%\n"
     ]
    }
   ],
   "source": [
    "n_classes = 2\n",
    "label_binarizer = LabelBinarizer()\n",
    "label_binarizer.fit(range(n_classes))\n",
    "train_labels_decode = label_binarizer.inverse_transform(train_labels)\n",
    "crossvalidation_loss_CNN = []\n",
    "crossvalidation_acc_CNN = []\n",
    "fold=1\n",
    "for train_index, valid_index in skf.split(train_features, train_labels_decode):\n",
    "    x_train, valid_features = train_features[train_index], train_features[valid_index]\n",
    "    y_train, valid_labels = train_labels[train_index], train_labels[valid_index]\n",
    "    #print(x_train.shape)\n",
    "    #print(x_valid.shape)\n",
    "    x, y, keep_prob_1, keep_prob_2, lr, summary, optimizer, cost, accuracy, is_training = build_op()\n",
    "    print('Training for the %d th-fold...'%fold)\n",
    "    with tf.Session() as sess:\n",
    "        # Initializing the variables\n",
    "        sess.run(tf.global_variables_initializer())\n",
    "        learning_rate = learning_rate_init\n",
    "        for epoch in range(epochs):\n",
    "            for batch_features, batch_labels in batch_features_labels(x_train, y_train, batch_size):\n",
    "                train_neural_network(sess, optimizer, keep_probability, batch_features, batch_labels, learning_rate)\n",
    "            print('Epoch {:>2}  '.format(epoch + 1), end='')\n",
    "            print_stats(sess, batch_features, batch_labels, cost, accuracy, learning_rate, valid=(valid_features, valid_labels))\n",
    "        val_loss = sess.run(cost, feed_dict={x: valid_features, y: valid_labels, keep_prob_1:1.0, keep_prob_2:1.0, is_training: False})\n",
    "        val_acc = sess.run(accuracy, feed_dict={x: valid_features, y: valid_labels, keep_prob_1:1.0, keep_prob_2:1.0, is_training: False})\n",
    "    # Logs for each fold\n",
    "    crossvalidation_loss_CNN.append(val_loss)\n",
    "    crossvalidation_acc_CNN.append(val_acc)\n",
    "    fold+=1\n",
    "avg_loss_CNN = cross_validation_scores(crossvalidation_loss_CNN, 'decimal')\n",
    "avg_acc_CNN = cross_validation_scores(crossvalidation_acc_CNN, 'percentage')\n",
    "print('Loss: {}'.format(avg_loss_CNN))\n",
    "print('Accuracy: {}'.format(avg_acc_CNN))"
   ]
  },
  {
   "cell_type": "code",
   "execution_count": 94,
   "metadata": {},
   "outputs": [],
   "source": [
    "def DeepTf(X, keep_prob_1, keep_prob_2, is_training=False):\n",
    "    \"\"\"\n",
    "    Create a convolutional/dense neural network model\n",
    "    \n",
    "    Arguments:\n",
    "    : x: Placeholder tensor that holds data.\n",
    "    : keep_prob: Placeholder tensor that hold dropout keep probability.\n",
    "    : is_training: Placeholder bool that hold the flag to determine training is True or False, default is False\n",
    "    \n",
    "    Returns:\n",
    "    : Tensor that represents logits\n",
    "    \"\"\"\n",
    "    \n",
    "    with tf.name_scope(\"DNN\"):\n",
    "        \n",
    "        X = flatten(X)\n",
    "        \n",
    "        with tf.variable_scope('fc1'):\n",
    "            X = fully_conn(X, num_outputs=128, is_training= is_training, l2_regularize=True, wd=0.01)\n",
    "            X = tf.nn.dropout(X, keep_prob_1)\n",
    "        with tf.variable_scope('fc2'):\n",
    "            X = fully_conn(X, num_outputs=256, is_training = is_training, l2_regularize=True, wd=0.01)\n",
    "            X = tf.nn.dropout(X, keep_prob_1)\n",
    "        with tf.variable_scope('fc3'):\n",
    "            X = fully_conn(X, num_outputs=512, is_training = is_training, l2_regularize=True, wd=0.01)\n",
    "            X = tf.nn.dropout(X, keep_prob_2)\n",
    "        with tf.variable_scope('fc4'):\n",
    "            X = fully_conn(X, num_outputs=1024, is_training = is_training, l2_regularize=True, wd=0.01)\n",
    "            X = tf.nn.dropout(X, keep_prob_2)\n",
    "            \n",
    "        X = output(X, 2)\n",
    "        \n",
    "    return X"
   ]
  },
  {
   "cell_type": "code",
   "execution_count": 95,
   "metadata": {},
   "outputs": [
    {
     "name": "stdout",
     "output_type": "stream",
     "text": [
      "Training for the 1 th-fold...\n",
      "Epoch  1  Loss:     0.5003 Accuracy: 0.8293 ----- Valid Loss:     0.4741 Valid Accuracy: 0.7922\n",
      "Epoch  2  Loss:     0.2033 Accuracy: 0.9512 ----- Valid Loss:     0.3405 Valid Accuracy: 0.9058\n",
      "Epoch  3  Loss:     0.0405 Accuracy: 0.9756 ----- Valid Loss:     0.3681 Valid Accuracy: 0.9123\n",
      "Epoch  4  Loss:     0.0347 Accuracy: 0.9756 ----- Valid Loss:     0.4573 Valid Accuracy: 0.8961\n",
      "Epoch  5  Loss:     0.0008 Accuracy: 1.0000 ----- Valid Loss:     0.5329 Valid Accuracy: 0.8831\n",
      "Epoch  6  Loss:     0.0011 Accuracy: 1.0000 ----- Valid Loss:     0.3701 Valid Accuracy: 0.9058\n",
      "Epoch  7  Loss:     0.0280 Accuracy: 0.9878 ----- Valid Loss:     0.3557 Valid Accuracy: 0.9156\n",
      "Epoch  8  Loss:     0.1812 Accuracy: 0.9634 ----- Valid Loss:     0.3556 Valid Accuracy: 0.9058\n",
      "Epoch  9  Loss:     0.0286 Accuracy: 0.9878 ----- Valid Loss:     0.3861 Valid Accuracy: 0.8961\n",
      "Epoch 10  Loss:     0.0793 Accuracy: 0.9756 ----- Valid Loss:     0.3705 Valid Accuracy: 0.8961\n",
      "Epoch 11  Loss:     0.0053 Accuracy: 1.0000 ----- Valid Loss:     0.3967 Valid Accuracy: 0.8994\n",
      "Epoch 12  Loss:     0.0605 Accuracy: 0.9878 ----- Valid Loss:     0.2723 Valid Accuracy: 0.8994\n",
      "Training for the 2 th-fold...\n",
      "Epoch  1  Loss:     0.5410 Accuracy: 0.7561 ----- Valid Loss:     0.4923 Valid Accuracy: 0.7825\n",
      "Epoch  2  Loss:     0.2718 Accuracy: 0.9390 ----- Valid Loss:     0.4838 Valid Accuracy: 0.8214\n",
      "Epoch  3  Loss:     0.1280 Accuracy: 0.9634 ----- Valid Loss:     0.6834 Valid Accuracy: 0.8701\n",
      "Epoch  4  Loss:     0.2695 Accuracy: 0.9878 ----- Valid Loss:     0.6171 Valid Accuracy: 0.8701\n",
      "Epoch  5  Loss:     0.0339 Accuracy: 0.9878 ----- Valid Loss:     0.6624 Valid Accuracy: 0.8636\n",
      "Epoch  6  Loss:     0.0029 Accuracy: 1.0000 ----- Valid Loss:     0.5285 Valid Accuracy: 0.8864\n",
      "Epoch  7  Loss:     0.0061 Accuracy: 1.0000 ----- Valid Loss:     0.6086 Valid Accuracy: 0.8539\n",
      "Epoch  8  Loss:     0.1737 Accuracy: 0.9756 ----- Valid Loss:     0.5512 Valid Accuracy: 0.8442\n",
      "Epoch  9  Loss:     0.0002 Accuracy: 1.0000 ----- Valid Loss:     0.5354 Valid Accuracy: 0.8604\n",
      "Epoch 10  Loss:     0.0435 Accuracy: 0.9756 ----- Valid Loss:     0.4886 Valid Accuracy: 0.8604\n",
      "Epoch 11  Loss:     0.0085 Accuracy: 1.0000 ----- Valid Loss:     0.5197 Valid Accuracy: 0.8442\n",
      "Epoch 12  Loss:     0.0005 Accuracy: 1.0000 ----- Valid Loss:     0.4206 Valid Accuracy: 0.8734\n",
      "Training for the 3 th-fold...\n",
      "Epoch  1  Loss:     0.4851 Accuracy: 0.8171 ----- Valid Loss:     0.4575 Valid Accuracy: 0.7825\n",
      "Epoch  2  Loss:     0.2459 Accuracy: 0.9512 ----- Valid Loss:     0.4062 Valid Accuracy: 0.8734\n",
      "Epoch  3  Loss:     0.1702 Accuracy: 0.9878 ----- Valid Loss:     0.3720 Valid Accuracy: 0.8831\n",
      "Epoch  4  Loss:     0.0458 Accuracy: 0.9878 ----- Valid Loss:     0.4236 Valid Accuracy: 0.8799\n",
      "Epoch  5  Loss:     0.0329 Accuracy: 0.9878 ----- Valid Loss:     0.3560 Valid Accuracy: 0.8766\n",
      "Epoch  6  Loss:     0.1012 Accuracy: 0.9756 ----- Valid Loss:     0.3891 Valid Accuracy: 0.8766\n",
      "Epoch  7  Loss:     0.1209 Accuracy: 0.9756 ----- Valid Loss:     0.4457 Valid Accuracy: 0.8669\n",
      "Epoch  8  Loss:     0.1081 Accuracy: 0.9756 ----- Valid Loss:     0.4490 Valid Accuracy: 0.8604\n",
      "Epoch  9  Loss:     0.0052 Accuracy: 1.0000 ----- Valid Loss:     0.3870 Valid Accuracy: 0.8864\n",
      "Epoch 10  Loss:     0.0104 Accuracy: 0.9878 ----- Valid Loss:     0.3175 Valid Accuracy: 0.8864\n",
      "Epoch 11  Loss:     0.1083 Accuracy: 0.9878 ----- Valid Loss:     0.3021 Valid Accuracy: 0.8799\n",
      "Epoch 12  Loss:     0.0127 Accuracy: 1.0000 ----- Valid Loss:     0.3135 Valid Accuracy: 0.8799\n",
      "Training for the 4 th-fold...\n",
      "Epoch  1  Loss:     0.5202 Accuracy: 0.7683 ----- Valid Loss:     0.5159 Valid Accuracy: 0.7792\n",
      "Epoch  2  Loss:     0.1542 Accuracy: 0.9390 ----- Valid Loss:     0.3653 Valid Accuracy: 0.8799\n",
      "Epoch  3  Loss:     0.0159 Accuracy: 0.9878 ----- Valid Loss:     0.3762 Valid Accuracy: 0.9026\n",
      "Epoch  4  Loss:     0.1095 Accuracy: 0.9878 ----- Valid Loss:     0.4450 Valid Accuracy: 0.8766\n",
      "Epoch  5  Loss:     0.0778 Accuracy: 0.9878 ----- Valid Loss:     0.3919 Valid Accuracy: 0.8799\n",
      "Epoch  6  Loss:     0.0093 Accuracy: 1.0000 ----- Valid Loss:     0.3853 Valid Accuracy: 0.8961\n",
      "Epoch  7  Loss:     0.0328 Accuracy: 0.9878 ----- Valid Loss:     0.3232 Valid Accuracy: 0.9058\n",
      "Epoch  8  Loss:     0.0018 Accuracy: 1.0000 ----- Valid Loss:     0.3123 Valid Accuracy: 0.9058\n",
      "Epoch  9  Loss:     0.0004 Accuracy: 1.0000 ----- Valid Loss:     0.3731 Valid Accuracy: 0.8896\n",
      "Epoch 10  Loss:     0.1374 Accuracy: 0.9756 ----- Valid Loss:     0.3693 Valid Accuracy: 0.8799\n",
      "Epoch 11  Loss:     0.0011 Accuracy: 1.0000 ----- Valid Loss:     0.3696 Valid Accuracy: 0.8961\n",
      "Epoch 12  Loss:     0.0326 Accuracy: 0.9756 ----- Valid Loss:     0.2938 Valid Accuracy: 0.9091\n",
      "Training for the 5 th-fold...\n",
      "Epoch  1  Loss:     0.6253 Accuracy: 0.7683 ----- Valid Loss:     0.4840 Valid Accuracy: 0.7695\n",
      "Epoch  2  Loss:     0.2237 Accuracy: 0.9512 ----- Valid Loss:     0.4341 Valid Accuracy: 0.8669\n",
      "Epoch  3  Loss:     0.1161 Accuracy: 0.9756 ----- Valid Loss:     0.4269 Valid Accuracy: 0.9026\n",
      "Epoch  4  Loss:     0.0005 Accuracy: 1.0000 ----- Valid Loss:     0.5417 Valid Accuracy: 0.9026\n",
      "Epoch  5  Loss:     0.1690 Accuracy: 0.9756 ----- Valid Loss:     0.5279 Valid Accuracy: 0.9091\n",
      "Epoch  6  Loss:     0.0202 Accuracy: 0.9878 ----- Valid Loss:     0.4165 Valid Accuracy: 0.8896\n",
      "Epoch  7  Loss:     0.1458 Accuracy: 0.9756 ----- Valid Loss:     0.4688 Valid Accuracy: 0.8799\n",
      "Epoch  8  Loss:     0.1550 Accuracy: 0.9756 ----- Valid Loss:     0.4229 Valid Accuracy: 0.8994\n",
      "Epoch  9  Loss:     0.0049 Accuracy: 1.0000 ----- Valid Loss:     0.4005 Valid Accuracy: 0.8994\n",
      "Epoch 10  Loss:     0.0192 Accuracy: 0.9878 ----- Valid Loss:     0.3957 Valid Accuracy: 0.8994\n",
      "Epoch 11  Loss:     0.0596 Accuracy: 0.9878 ----- Valid Loss:     0.4142 Valid Accuracy: 0.8701\n",
      "Epoch 12  Loss:     0.0202 Accuracy: 0.9878 ----- Valid Loss:     0.3740 Valid Accuracy: 0.8896\n",
      "Training for the 6 th-fold...\n",
      "Epoch  1  Loss:     0.4832 Accuracy: 0.7683 ----- Valid Loss:     0.4733 Valid Accuracy: 0.8084\n",
      "Epoch  2  Loss:     0.2943 Accuracy: 0.9268 ----- Valid Loss:     0.3151 Valid Accuracy: 0.8896\n",
      "Epoch  3  Loss:     0.0814 Accuracy: 0.9756 ----- Valid Loss:     0.4271 Valid Accuracy: 0.8961\n",
      "Epoch  4  Loss:     0.0033 Accuracy: 1.0000 ----- Valid Loss:     0.4679 Valid Accuracy: 0.9026\n",
      "Epoch  5  Loss:     0.0147 Accuracy: 0.9878 ----- Valid Loss:     0.5120 Valid Accuracy: 0.8896\n",
      "Epoch  6  Loss:     0.0049 Accuracy: 1.0000 ----- Valid Loss:     0.5002 Valid Accuracy: 0.8799\n",
      "Epoch  7  Loss:     0.0024 Accuracy: 1.0000 ----- Valid Loss:     0.5712 Valid Accuracy: 0.8474\n",
      "Epoch  8  Loss:     0.1725 Accuracy: 0.9756 ----- Valid Loss:     0.4758 Valid Accuracy: 0.8604\n",
      "Epoch  9  Loss:     0.1084 Accuracy: 0.9756 ----- Valid Loss:     0.4090 Valid Accuracy: 0.8864\n",
      "Epoch 10  Loss:     0.0001 Accuracy: 1.0000 ----- Valid Loss:     0.4575 Valid Accuracy: 0.8604\n",
      "Epoch 11  Loss:     0.0466 Accuracy: 0.9878 ----- Valid Loss:     0.3725 Valid Accuracy: 0.8669\n",
      "Epoch 12  Loss:     0.0783 Accuracy: 0.9756 ----- Valid Loss:     0.3670 Valid Accuracy: 0.8766\n",
      "Training for the 7 th-fold...\n",
      "Epoch  1  Loss:     0.5988 Accuracy: 0.7439 ----- Valid Loss:     0.5214 Valid Accuracy: 0.7532\n",
      "Epoch  2  Loss:     0.2505 Accuracy: 0.9146 ----- Valid Loss:     0.4483 Valid Accuracy: 0.8377\n",
      "Epoch  3  Loss:     0.0360 Accuracy: 0.9878 ----- Valid Loss:     0.6552 Valid Accuracy: 0.8766\n",
      "Epoch  4  Loss:     0.0244 Accuracy: 0.9878 ----- Valid Loss:     0.6285 Valid Accuracy: 0.8929\n",
      "Epoch  5  Loss:     0.1386 Accuracy: 0.9634 ----- Valid Loss:     0.5313 Valid Accuracy: 0.8831\n",
      "Epoch  6  Loss:     0.0067 Accuracy: 1.0000 ----- Valid Loss:     0.5947 Valid Accuracy: 0.8701\n",
      "Epoch  7  Loss:     0.1734 Accuracy: 0.9756 ----- Valid Loss:     0.5170 Valid Accuracy: 0.8442\n",
      "Epoch  8  Loss:     0.0033 Accuracy: 1.0000 ----- Valid Loss:     0.4758 Valid Accuracy: 0.8636\n",
      "Epoch  9  Loss:     0.1503 Accuracy: 0.9756 ----- Valid Loss:     0.5470 Valid Accuracy: 0.8506\n",
      "Epoch 10  Loss:     0.0019 Accuracy: 1.0000 ----- Valid Loss:     0.4557 Valid Accuracy: 0.8831\n",
      "Epoch 11  Loss:     0.0486 Accuracy: 0.9878 ----- Valid Loss:     0.3944 Valid Accuracy: 0.8734\n",
      "Epoch 12  Loss:     0.0382 Accuracy: 0.9878 ----- Valid Loss:     0.4538 Valid Accuracy: 0.8766\n"
     ]
    },
    {
     "name": "stdout",
     "output_type": "stream",
     "text": [
      "Training for the 8 th-fold...\n",
      "Epoch  1  Loss:     0.8066 Accuracy: 0.7561 ----- Valid Loss:     0.6632 Valid Accuracy: 0.6688\n",
      "Epoch  2  Loss:     0.3060 Accuracy: 0.9390 ----- Valid Loss:     0.4152 Valid Accuracy: 0.8701\n",
      "Epoch  3  Loss:     0.1221 Accuracy: 0.9634 ----- Valid Loss:     0.6397 Valid Accuracy: 0.8669\n",
      "Epoch  4  Loss:     0.0070 Accuracy: 1.0000 ----- Valid Loss:     0.7144 Valid Accuracy: 0.8994\n",
      "Epoch  5  Loss:     0.1369 Accuracy: 0.9878 ----- Valid Loss:     0.5732 Valid Accuracy: 0.8896\n",
      "Epoch  6  Loss:     0.1057 Accuracy: 0.9878 ----- Valid Loss:     0.5657 Valid Accuracy: 0.8961\n",
      "Epoch  7  Loss:     0.0706 Accuracy: 0.9878 ----- Valid Loss:     0.4497 Valid Accuracy: 0.8896\n",
      "Epoch  8  Loss:     0.0986 Accuracy: 0.9878 ----- Valid Loss:     0.4459 Valid Accuracy: 0.8701\n",
      "Epoch  9  Loss:     0.0804 Accuracy: 0.9878 ----- Valid Loss:     0.4691 Valid Accuracy: 0.8929\n",
      "Epoch 10  Loss:     0.0079 Accuracy: 1.0000 ----- Valid Loss:     0.4140 Valid Accuracy: 0.8864\n",
      "Epoch 11  Loss:     0.0882 Accuracy: 0.9756 ----- Valid Loss:     0.4923 Valid Accuracy: 0.8571\n",
      "Epoch 12  Loss:     0.0206 Accuracy: 0.9756 ----- Valid Loss:     0.5186 Valid Accuracy: 0.8539\n",
      "Training for the 9 th-fold...\n",
      "Epoch  1  Loss:     0.4601 Accuracy: 0.8049 ----- Valid Loss:     0.4265 Valid Accuracy: 0.8052\n",
      "Epoch  2  Loss:     0.1441 Accuracy: 0.9512 ----- Valid Loss:     0.3549 Valid Accuracy: 0.8961\n",
      "Epoch  3  Loss:     0.0553 Accuracy: 0.9756 ----- Valid Loss:     0.5080 Valid Accuracy: 0.8864\n",
      "Epoch  4  Loss:     0.0002 Accuracy: 1.0000 ----- Valid Loss:     0.5372 Valid Accuracy: 0.8864\n",
      "Epoch  5  Loss:     0.0493 Accuracy: 0.9878 ----- Valid Loss:     0.4592 Valid Accuracy: 0.8929\n",
      "Epoch  6  Loss:     0.0397 Accuracy: 0.9878 ----- Valid Loss:     0.6275 Valid Accuracy: 0.8766\n",
      "Epoch  7  Loss:     0.0034 Accuracy: 1.0000 ----- Valid Loss:     0.5604 Valid Accuracy: 0.8799\n",
      "Epoch  8  Loss:     0.0245 Accuracy: 0.9878 ----- Valid Loss:     0.3976 Valid Accuracy: 0.8961\n",
      "Epoch  9  Loss:     0.0050 Accuracy: 1.0000 ----- Valid Loss:     0.4242 Valid Accuracy: 0.8961\n",
      "Epoch 10  Loss:     0.0006 Accuracy: 1.0000 ----- Valid Loss:     0.4051 Valid Accuracy: 0.8896\n",
      "Epoch 11  Loss:     0.0422 Accuracy: 0.9878 ----- Valid Loss:     0.4047 Valid Accuracy: 0.8799\n",
      "Epoch 12  Loss:     0.0073 Accuracy: 1.0000 ----- Valid Loss:     0.3929 Valid Accuracy: 0.8994\n",
      "Training for the 10 th-fold...\n",
      "Epoch  1  Loss:     0.6462 Accuracy: 0.7857 ----- Valid Loss:     0.5427 Valid Accuracy: 0.7386\n",
      "Epoch  2  Loss:     0.2967 Accuracy: 0.9167 ----- Valid Loss:     0.3769 Valid Accuracy: 0.8431\n",
      "Epoch  3  Loss:     0.1155 Accuracy: 0.9762 ----- Valid Loss:     0.4012 Valid Accuracy: 0.8791\n",
      "Epoch  4  Loss:     0.0051 Accuracy: 1.0000 ----- Valid Loss:     0.4519 Valid Accuracy: 0.8856\n",
      "Epoch  5  Loss:     0.1562 Accuracy: 0.9762 ----- Valid Loss:     0.4620 Valid Accuracy: 0.8660\n",
      "Epoch  6  Loss:     0.0225 Accuracy: 0.9881 ----- Valid Loss:     0.4504 Valid Accuracy: 0.8824\n",
      "Epoch  7  Loss:     0.0008 Accuracy: 1.0000 ----- Valid Loss:     0.4646 Valid Accuracy: 0.8725\n",
      "Epoch  8  Loss:     0.1768 Accuracy: 0.9643 ----- Valid Loss:     0.4197 Valid Accuracy: 0.8529\n",
      "Epoch  9  Loss:     0.0721 Accuracy: 0.9762 ----- Valid Loss:     0.4642 Valid Accuracy: 0.8562\n",
      "Epoch 10  Loss:     0.0278 Accuracy: 0.9881 ----- Valid Loss:     0.4433 Valid Accuracy: 0.8758\n",
      "Epoch 11  Loss:     0.0268 Accuracy: 0.9881 ----- Valid Loss:     0.4243 Valid Accuracy: 0.8725\n",
      "Epoch 12  Loss:     0.0006 Accuracy: 1.0000 ----- Valid Loss:     0.4561 Valid Accuracy: 0.8791\n",
      "Loss: 0.386 +- 0.075\n",
      "Accuracy: 88.37 +- 1.52%\n"
     ]
    }
   ],
   "source": [
    "n_classes = 2\n",
    "label_binarizer = LabelBinarizer()\n",
    "label_binarizer.fit(range(n_classes))\n",
    "train_labels_decode = label_binarizer.inverse_transform(train_labels)\n",
    "crossvalidation_loss_DNN = []\n",
    "crossvalidation_acc_DNN = []\n",
    "fold=1\n",
    "for train_index, valid_index in skf.split(train_features, train_labels_decode):\n",
    "    x_train, valid_features = train_features[train_index], train_features[valid_index]\n",
    "    y_train, valid_labels = train_labels[train_index], train_labels[valid_index]\n",
    "    #print(x_train.shape)\n",
    "    #print(x_valid.shape)\n",
    "    x, y, keep_prob_1, keep_prob_2, lr, summary, optimizer, cost, accuracy, is_training = build_op()\n",
    "    print('Training for the %d th-fold...'%fold)\n",
    "    with tf.Session() as sess:\n",
    "        # Initializing the variables\n",
    "        sess.run(tf.global_variables_initializer())\n",
    "        learning_rate = learning_rate_init\n",
    "        for epoch in range(epochs):\n",
    "            for batch_features, batch_labels in batch_features_labels(x_train, y_train, batch_size):\n",
    "                train_neural_network(sess, optimizer, keep_probability, batch_features, batch_labels, learning_rate)\n",
    "            print('Epoch {:>2}  '.format(epoch + 1), end='')\n",
    "            print_stats(sess, batch_features, batch_labels, cost, accuracy, learning_rate, valid=(valid_features, valid_labels))\n",
    "        val_loss = sess.run(cost, feed_dict={x: valid_features, y: valid_labels, keep_prob_1:1.0, keep_prob_2:1.0, is_training: False})\n",
    "        val_acc = sess.run(accuracy, feed_dict={x: valid_features, y: valid_labels, keep_prob_1:1.0, keep_prob_2:1.0, is_training: False})\n",
    "    # Logs for each fold\n",
    "    crossvalidation_loss_DNN.append(val_loss)\n",
    "    crossvalidation_acc_DNN.append(val_acc)\n",
    "    fold+=1\n",
    "avg_loss_DNN = cross_validation_scores(crossvalidation_loss_DNN, 'decimal')\n",
    "avg_acc_DNN = cross_validation_scores(crossvalidation_acc_DNN, 'percentage')\n",
    "print('Loss: {}'.format(avg_loss_DNN))\n",
    "print('Accuracy: {}'.format(avg_acc_DNN))"
   ]
  },
  {
   "cell_type": "code",
   "execution_count": 96,
   "metadata": {
    "scrolled": true
   },
   "outputs": [
    {
     "name": "stdout",
     "output_type": "stream",
     "text": [
      "Loss: 0.327 +- 0.040\n",
      "Accuracy: 85.57 +- 2.37%\n"
     ]
    }
   ],
   "source": [
    "print('Loss: {}'.format(avg_loss_CNN))\n",
    "print('Accuracy: {}'.format(avg_acc_CNN))"
   ]
  },
  {
   "cell_type": "code",
   "execution_count": 97,
   "metadata": {},
   "outputs": [
    {
     "name": "stdout",
     "output_type": "stream",
     "text": [
      "Loss: 0.386 +- 0.075\n",
      "Accuracy: 88.37 +- 1.52%\n"
     ]
    }
   ],
   "source": [
    "print('Loss: {}'.format(avg_loss_DNN))\n",
    "print('Accuracy: {}'.format(avg_acc_DNN))"
   ]
  },
  {
   "cell_type": "code",
   "execution_count": null,
   "metadata": {},
   "outputs": [],
   "source": []
  }
 ],
 "metadata": {
  "kernelspec": {
   "display_name": "Python 3",
   "language": "python",
   "name": "python3"
  },
  "language_info": {
   "codemirror_mode": {
    "name": "ipython",
    "version": 3
   },
   "file_extension": ".py",
   "mimetype": "text/x-python",
   "name": "python",
   "nbconvert_exporter": "python",
   "pygments_lexer": "ipython3",
   "version": "3.5.2"
  },
  "widgets": {
   "state": {
    "30561acb99b54e3296e4b16eb48746c6": {
     "views": []
    },
    "54eb681e67dd41dfbab25d09702ae477": {
     "views": []
    },
    "7893e80c3f734d62920e54a0ceb47f69": {
     "views": []
    },
    "7dcb6b80d2db45f485d1e50743d491d0": {
     "views": []
    },
    "80f6c276e6d546e798b2da769650609a": {
     "views": []
    },
    "85ae1b2ee7044508a4c1e3106b06df37": {
     "views": [
      {
       "cell_index": 5
      }
     ]
    },
    "a7caabbf1ea14fa28076d7369c4b0746": {
     "views": []
    },
    "d74f4a5424384e5a85be8b42baed70bd": {
     "views": []
    }
   },
   "version": "1.1.2"
  }
 },
 "nbformat": 4,
 "nbformat_minor": 2
}
